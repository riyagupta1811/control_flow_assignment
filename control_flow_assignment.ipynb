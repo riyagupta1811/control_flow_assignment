{
 "cells": [
  {
   "cell_type": "code",
   "execution_count": null,
   "id": "5985b9d5-55d2-4a79-b24f-b6e29fd7edcf",
   "metadata": {},
   "outputs": [],
   "source": [
    "#Basic If - Else Statements"
   ]
  },
  {
   "cell_type": "code",
   "execution_count": null,
   "id": "7e3ab4fc-e4f9-4cc2-b1e9-3543bf0f05de",
   "metadata": {},
   "outputs": [],
   "source": [
    "#Question1"
   ]
  },
  {
   "cell_type": "code",
   "execution_count": 2,
   "id": "85d1e8d4-1495-4b72-a594-1e38b3886df0",
   "metadata": {},
   "outputs": [
    {
     "name": "stdin",
     "output_type": "stream",
     "text": [
      "Enter a number -2\n"
     ]
    },
    {
     "name": "stdout",
     "output_type": "stream",
     "text": [
      "Number is negative\n"
     ]
    }
   ],
   "source": [
    "a = int(input(\"Enter a number\"))\n",
    "\n",
    "if a < 0:\n",
    "    print(\"Number is negative\")\n",
    "else:\n",
    "    print(\"Number is positive\")"
   ]
  },
  {
   "cell_type": "code",
   "execution_count": null,
   "id": "cc9f1271-db8f-4aa2-80b1-83ed78925488",
   "metadata": {},
   "outputs": [],
   "source": [
    "#Question2"
   ]
  },
  {
   "cell_type": "code",
   "execution_count": 3,
   "id": "3b2c2078-9339-4ebe-b8d2-5306b5dc2f5e",
   "metadata": {},
   "outputs": [
    {
     "name": "stdin",
     "output_type": "stream",
     "text": [
      "Enter your age 18\n"
     ]
    },
    {
     "name": "stdout",
     "output_type": "stream",
     "text": [
      "You are eligible to vote\n"
     ]
    }
   ],
   "source": [
    "age = int(input(\"Enter your age\"))\n",
    "\n",
    "minimum_age = 18\n",
    "\n",
    "if age < minimum_age:\n",
    "    print(\"You are not eligible to vote\")\n",
    "else:\n",
    "    print(\"You are eligible to vote\")"
   ]
  },
  {
   "cell_type": "code",
   "execution_count": null,
   "id": "49ef9df4-0d7a-44c7-ac98-86b55f3f80cd",
   "metadata": {},
   "outputs": [],
   "source": [
    "#Question3"
   ]
  },
  {
   "cell_type": "code",
   "execution_count": 5,
   "id": "34149d64-c05e-4b12-aeeb-958a12699b68",
   "metadata": {},
   "outputs": [
    {
     "name": "stdin",
     "output_type": "stream",
     "text": [
      "Enter first number : 3\n",
      "Enter second number : 33\n"
     ]
    },
    {
     "name": "stdout",
     "output_type": "stream",
     "text": [
      "33 is greater than 3\n"
     ]
    }
   ],
   "source": [
    "a = int(input(\"Enter first number :\"))\n",
    "b = int(input(\"Enter second number :\"))\n",
    "\n",
    "if a > b:\n",
    "    print(f\"{a} is greater than {b}\")\n",
    "else:\n",
    "    print(f\"{b} is greater than {a}\")"
   ]
  },
  {
   "cell_type": "code",
   "execution_count": null,
   "id": "e1bfcd08-d072-4a17-bd3f-ad36d5ee9659",
   "metadata": {},
   "outputs": [],
   "source": [
    "#Question4"
   ]
  },
  {
   "cell_type": "code",
   "execution_count": 7,
   "id": "5abfb4d2-00c7-4bb0-a708-84f5b86e545c",
   "metadata": {},
   "outputs": [
    {
     "name": "stdin",
     "output_type": "stream",
     "text": [
      "Enter a year : 2002\n"
     ]
    },
    {
     "name": "stdout",
     "output_type": "stream",
     "text": [
      "2002 is not a leap year\n"
     ]
    }
   ],
   "source": [
    "year = int(input(\"Enter a year :\"))\n",
    "\n",
    "if year % 4 == 0:\n",
    "    print(f\"{year} is a leap year\")\n",
    "else:\n",
    "    print(f\"{year} is not a leap year\")"
   ]
  },
  {
   "cell_type": "code",
   "execution_count": null,
   "id": "61c51f26-7696-44fa-8876-c3539f5401cd",
   "metadata": {},
   "outputs": [],
   "source": [
    "#Question5"
   ]
  },
  {
   "cell_type": "code",
   "execution_count": 10,
   "id": "d509ce4d-4032-4121-898e-118fd3f1b758",
   "metadata": {},
   "outputs": [
    {
     "name": "stdin",
     "output_type": "stream",
     "text": [
      "Enter a character s\n"
     ]
    },
    {
     "name": "stdout",
     "output_type": "stream",
     "text": [
      "Character is consonant\n"
     ]
    }
   ],
   "source": [
    "char = input(\"Enter a character\")\n",
    "\n",
    "if(char=='a' or char=='e' or char=='i' or char=='o' or char=='u' or char=='A' or char=='E' or\n",
    "   char=='I' or char=='O' or char=='U'):\n",
    "    print(\"Character is vowel\")\n",
    "else:\n",
    "    print(\"Character is consonant\")"
   ]
  },
  {
   "cell_type": "code",
   "execution_count": null,
   "id": "12f61f8b-7b16-4b3d-8fd6-ccf9c1b94ca0",
   "metadata": {},
   "outputs": [],
   "source": [
    "#Question6"
   ]
  },
  {
   "cell_type": "code",
   "execution_count": 11,
   "id": "3c1d2741-c168-4c81-b650-aad609f52ab7",
   "metadata": {},
   "outputs": [
    {
     "name": "stdin",
     "output_type": "stream",
     "text": [
      "Enter a number 5\n"
     ]
    },
    {
     "name": "stdout",
     "output_type": "stream",
     "text": [
      "Number is odd\n"
     ]
    }
   ],
   "source": [
    "num = int(input(\"Enter a number\"))\n",
    "\n",
    "if num % 2 == 0:\n",
    "    print(\"Number is even\")\n",
    "else:\n",
    "    print(\"Number is odd\")"
   ]
  },
  {
   "cell_type": "code",
   "execution_count": null,
   "id": "f7531ad0-ce77-4070-b6dd-ffd8f36a9206",
   "metadata": {},
   "outputs": [],
   "source": [
    "#Question7"
   ]
  },
  {
   "cell_type": "code",
   "execution_count": 15,
   "id": "37875023-b638-4527-be49-442f3f89f122",
   "metadata": {},
   "outputs": [
    {
     "name": "stdout",
     "output_type": "stream",
     "text": [
      "5\n"
     ]
    }
   ],
   "source": [
    "def abs_number(n):\n",
    "    if n >= 0:\n",
    "        return n\n",
    "    else:\n",
    "        return -n\n",
    "\n",
    "num = abs_number(-5)\n",
    "print(num)"
   ]
  },
  {
   "cell_type": "code",
   "execution_count": null,
   "id": "91d21020-a931-4af1-9b03-c0c564655d85",
   "metadata": {},
   "outputs": [],
   "source": [
    "#Question8"
   ]
  },
  {
   "cell_type": "code",
   "execution_count": 23,
   "id": "e1f46572-aac6-4fd1-926f-eeef34b2aebf",
   "metadata": {},
   "outputs": [
    {
     "name": "stdin",
     "output_type": "stream",
     "text": [
      "Enter first number 3\n",
      "Enter second number 4\n",
      "Enter third number 2\n"
     ]
    },
    {
     "name": "stdout",
     "output_type": "stream",
     "text": [
      "Largest = 4\n"
     ]
    }
   ],
   "source": [
    "a = int(input(\"Enter first number\"))\n",
    "b = int(input(\"Enter second number\"))\n",
    "c = int(input(\"Enter third number\"))\n",
    "\n",
    "largest = a\n",
    "\n",
    "if b > largest and b > c :\n",
    "    largest = b\n",
    "    \n",
    "else:\n",
    "    largest = c\n",
    "    \n",
    "print(f\"Largest = {largest}\")"
   ]
  },
  {
   "cell_type": "code",
   "execution_count": null,
   "id": "11a79444-0fb9-4a5c-99d6-5ba530c02644",
   "metadata": {},
   "outputs": [],
   "source": [
    "#Question9"
   ]
  },
  {
   "cell_type": "code",
   "execution_count": 28,
   "id": "b79b7768-45e3-42ba-8ab6-07a2f5d890db",
   "metadata": {},
   "outputs": [
    {
     "name": "stdin",
     "output_type": "stream",
     "text": [
      "Enter a string mam\n"
     ]
    },
    {
     "name": "stdout",
     "output_type": "stream",
     "text": [
      "The string mam is palindrome\n"
     ]
    }
   ],
   "source": [
    "str = input(\"Enter a string\")\n",
    "if str == str[::-1]:\n",
    "    print(f\"The string {str} is palindrome\")\n",
    "else:\n",
    "    print(f\"The string {str} is not palindrome\")"
   ]
  },
  {
   "cell_type": "code",
   "execution_count": null,
   "id": "3beebd3e-76ed-4f02-9463-515d3a8bf10e",
   "metadata": {},
   "outputs": [],
   "source": [
    "#Question10"
   ]
  },
  {
   "cell_type": "code",
   "execution_count": 33,
   "id": "9ab62c84-ff20-456f-84ae-c3305107fe4c",
   "metadata": {},
   "outputs": [
    {
     "name": "stdin",
     "output_type": "stream",
     "text": [
      "Enter score between 0 to 100 70\n"
     ]
    },
    {
     "name": "stdout",
     "output_type": "stream",
     "text": [
      "The grade for a score of 70 is: C\n"
     ]
    }
   ],
   "source": [
    "score = int(input(\"Enter score between 0 to 100 :\"))\n",
    "\n",
    "grade = 'F' #Assume\n",
    "\n",
    "if score >= 90:\n",
    "    grade = 'A'\n",
    "if score >= 80 and score < 90:\n",
    "    grade = 'B'\n",
    "if score >= 70 and score < 80:\n",
    "    grade = 'C'\n",
    "if score >= 60 and score < 70:\n",
    "    grade = 'D'\n",
    "\n",
    "print(f\"The grade for a score of {score} is: {grade}\")"
   ]
  },
  {
   "cell_type": "code",
   "execution_count": null,
   "id": "87d63fe4-8445-4399-9a95-9af84dcbf5f7",
   "metadata": {},
   "outputs": [],
   "source": [
    "#Nested If - Else Statements"
   ]
  },
  {
   "cell_type": "code",
   "execution_count": null,
   "id": "37358beb-1f67-4d99-a798-9bbcfe9eb5d4",
   "metadata": {},
   "outputs": [],
   "source": [
    "#Question11"
   ]
  },
  {
   "cell_type": "code",
   "execution_count": 10,
   "id": "085a4c23-cc0d-43c9-9e5b-18f7e925ce14",
   "metadata": {},
   "outputs": [
    {
     "name": "stdin",
     "output_type": "stream",
     "text": [
      "Enter first number:  77\n",
      "Enter second number:  3\n",
      "Enter third number:  22\n"
     ]
    },
    {
     "name": "stdout",
     "output_type": "stream",
     "text": [
      "77 is the greatest\n"
     ]
    }
   ],
   "source": [
    "a = int(input(\"Enter first number: \"))\n",
    "b = int(input(\"Enter second number: \"))\n",
    "c = int(input(\"Enter third number: \"))\n",
    "\n",
    "if a > b:\n",
    "    if a > c:\n",
    "        print(f\"{a} is the greatest\")\n",
    "    else:\n",
    "        print(f\"{c} is the greatest\")\n",
    "else:\n",
    "    if b > c:\n",
    "        print(f\"{b} is the greatest\")\n",
    "    else:\n",
    "        print(f\"{c} is the greatest\")"
   ]
  },
  {
   "cell_type": "code",
   "execution_count": null,
   "id": "49d7889f-fec2-4489-86b9-f0ff802fb3e1",
   "metadata": {},
   "outputs": [],
   "source": [
    "#Question12"
   ]
  },
  {
   "cell_type": "code",
   "execution_count": 15,
   "id": "c5b5cb85-8658-4f86-9507-8088157c33a8",
   "metadata": {},
   "outputs": [
    {
     "name": "stdin",
     "output_type": "stream",
     "text": [
      "Enter first side 12\n",
      "Enter second side 15\n",
      "Enter third side 12\n"
     ]
    },
    {
     "name": "stdout",
     "output_type": "stream",
     "text": [
      "Triangle is Isosceles\n"
     ]
    }
   ],
   "source": [
    "s1 = int(input(\"Enter first side\"))\n",
    "s2 = int(input(\"Enter second side\"))\n",
    "s3 = int(input(\"Enter third side\"))\n",
    "\n",
    "if s1 == s2 == s3 :\n",
    "    print(\"Triangle is Equilateral\")\n",
    "    \n",
    "else:\n",
    "    if s1 != s2 and s2 != s3 and s1 != s3 :\n",
    "        print(\"Triangle is Scalene\")\n",
    "    else:\n",
    "        print(\"Triangle is Isosceles\")"
   ]
  },
  {
   "cell_type": "code",
   "execution_count": null,
   "id": "2608c941-8f73-48ee-bcc9-36c038dfc048",
   "metadata": {},
   "outputs": [],
   "source": [
    "#Question13"
   ]
  },
  {
   "cell_type": "code",
   "execution_count": 16,
   "id": "c90a0fb0-e641-4194-a25e-0c34fcd72490",
   "metadata": {},
   "outputs": [
    {
     "name": "stdin",
     "output_type": "stream",
     "text": [
      "Enter a year 2000\n"
     ]
    },
    {
     "name": "stdout",
     "output_type": "stream",
     "text": [
      "2000 is a leap year and a century year.\n"
     ]
    }
   ],
   "source": [
    "year = int(input(\"Enter a year\"))\n",
    "\n",
    "if year % 100 == 0:\n",
    "    if year % 400 == 0:\n",
    "        print(f\"{year} is a leap year and a century year.\")\n",
    "    else:\n",
    "        print(f\"{year} is a century year but not a leap year.\")\n",
    "        \n",
    "else:\n",
    "    if year % 4 == 0:\n",
    "        print(f\"{year} is a leap year.\")\n",
    "    else:\n",
    "        print(f\"{year} is not a leap year.\")\n",
    "\n"
   ]
  },
  {
   "cell_type": "code",
   "execution_count": null,
   "id": "e998033f-2baa-4823-a2ca-d95add18d839",
   "metadata": {},
   "outputs": [],
   "source": [
    "#Question14"
   ]
  },
  {
   "cell_type": "code",
   "execution_count": 23,
   "id": "cab9dffa-b3fe-4c19-9070-e02a478cd8f0",
   "metadata": {},
   "outputs": [
    {
     "name": "stdin",
     "output_type": "stream",
     "text": [
      "Enter a number 2\n"
     ]
    },
    {
     "name": "stdout",
     "output_type": "stream",
     "text": [
      "Number is positive\n"
     ]
    }
   ],
   "source": [
    "num = int(input(\"Enter a number\"))\n",
    "\n",
    "if num >= 0:\n",
    "    if num == 0:\n",
    "        print(\"Number is zero\")\n",
    "    else:\n",
    "        print(\"Number is positive\")\n",
    "else:\n",
    "    print(\"Number is negative\")"
   ]
  },
  {
   "cell_type": "code",
   "execution_count": null,
   "id": "0f108e95-c00e-43db-8e2e-289c663fbc33",
   "metadata": {},
   "outputs": [],
   "source": [
    "#Question15"
   ]
  },
  {
   "cell_type": "code",
   "execution_count": 33,
   "id": "c06efd24-b531-4ee2-a687-e8063d35c7e2",
   "metadata": {},
   "outputs": [
    {
     "name": "stdin",
     "output_type": "stream",
     "text": [
      "Enter a person's age 15\n"
     ]
    },
    {
     "name": "stdout",
     "output_type": "stream",
     "text": [
      "Person is a teenager\n"
     ]
    }
   ],
   "source": [
    "age = int(input(\"Enter a person's age\"))\n",
    "\n",
    "if age > 13:\n",
    "    if age < 19:\n",
    "        print(\"Person is a teenager\")\n",
    "    else:\n",
    "        print(\"Person is not a teenager\")  \n",
    "else:\n",
    "    print(\"Person is not a teenager\")"
   ]
  },
  {
   "cell_type": "code",
   "execution_count": null,
   "id": "37809681-eb39-4218-b438-72518ae650e9",
   "metadata": {},
   "outputs": [],
   "source": [
    "#Question16"
   ]
  },
  {
   "cell_type": "code",
   "execution_count": 43,
   "id": "b3640962-38c9-4647-a3f9-a16bc35ae35c",
   "metadata": {},
   "outputs": [
    {
     "name": "stdin",
     "output_type": "stream",
     "text": [
      "Enter an angle 150\n"
     ]
    },
    {
     "name": "stdout",
     "output_type": "stream",
     "text": [
      "It is an obtuse angle\n"
     ]
    }
   ],
   "source": [
    "angle = int(input(\"Enter an angle\"))\n",
    "\n",
    "if (angle > 0):\n",
    "    if (angle < 90):\n",
    "        print(\"It is an acute angle\")\n",
    "    else:\n",
    "        if (angle == 90):\n",
    "            print(\"It is a right angle\")\n",
    "        else :\n",
    "            if (angle < 180):\n",
    "                print(\"It is an obtuse angle\")\n",
    "            else:\n",
    "                print(\"The angle is not valid for this classification (should be less than 180)\")\n",
    "else:\n",
    "    print(\"The angle is not valid (should be a positive number)\")"
   ]
  },
  {
   "cell_type": "code",
   "execution_count": null,
   "id": "97a21f99-4c22-43f7-81b3-80ff449ee72d",
   "metadata": {},
   "outputs": [],
   "source": [
    "#Question17"
   ]
  },
  {
   "cell_type": "code",
   "execution_count": 45,
   "id": "1cf19113-2dd3-41b8-9ad9-508a077f55c3",
   "metadata": {},
   "outputs": [
    {
     "name": "stdin",
     "output_type": "stream",
     "text": [
      "Enter coefficient a:  2\n",
      "Enter coefficient b:  9\n",
      "Enter coefficient c:  3\n"
     ]
    },
    {
     "name": "stdout",
     "output_type": "stream",
     "text": [
      "The equation has two real and distinct roots: -0.36254139118231254 and -4.1374586088176875.\n"
     ]
    }
   ],
   "source": [
    "import math\n",
    "\n",
    "a = float(input(\"Enter coefficient a: \"))\n",
    "b = float(input(\"Enter coefficient b: \"))\n",
    "c = float(input(\"Enter coefficient c: \"))\n",
    "\n",
    "discriminant = b**2 - 4*a*c\n",
    "\n",
    "if a == 0:\n",
    "    print(\"The equation is not quadratic (a should not be zero).\")\n",
    "else:\n",
    "    if discriminant > 0:\n",
    "        root1 = (-b + math.sqrt(discriminant)) / (2*a)\n",
    "        root2 = (-b - math.sqrt(discriminant)) / (2*a)\n",
    "        print(f\"The equation has two real and distinct roots: {root1} and {root2}.\")\n",
    "    \n",
    "    if discriminant == 0:\n",
    "        root = -b / (2*a)\n",
    "        print(f\"The equation has one real and repeated root: {root}.\")\n",
    "    \n",
    "    if discriminant < 0:\n",
    "        real_part = -b / (2*a)\n",
    "        imaginary_part = math.sqrt(-discriminant) / (2*a)\n",
    "        print(f\"The equation has two complex roots: {real_part} + {imaginary_part}i and {real_part} - {imaginary_part}i.\")"
   ]
  },
  {
   "cell_type": "code",
   "execution_count": null,
   "id": "3c094ac8-cbf7-46af-ad01-39c3734292a2",
   "metadata": {},
   "outputs": [],
   "source": [
    "#Question18"
   ]
  },
  {
   "cell_type": "code",
   "execution_count": 57,
   "id": "0e8e58b6-9a10-4aed-8f1e-0d2d64984d49",
   "metadata": {},
   "outputs": [
    {
     "name": "stdin",
     "output_type": "stream",
     "text": [
      "Enter a number from 1 till 7 :  7\n"
     ]
    },
    {
     "name": "stdout",
     "output_type": "stream",
     "text": [
      "Today is Sunday\n"
     ]
    }
   ],
   "source": [
    "num = int(input(\"Enter a number from 1 till 7 : \"))\n",
    "\n",
    "if num > 0:\n",
    "    if num == 1:\n",
    "        print(\"Today is Monday\")\n",
    "    else:\n",
    "        if num == 2:\n",
    "            print(\"Today is Tuesday\")\n",
    "        else:\n",
    "            if num == 3:\n",
    "                print(\"Today is Wednesday\")\n",
    "            else:\n",
    "                if num == 4:\n",
    "                    print(\"Today is Thursday\")\n",
    "                else:\n",
    "                    if num == 5:\n",
    "                        print(\"Today is Friday\")\n",
    "                    else:\n",
    "                        if num == 6:\n",
    "                            print(\"Today is Saturday\")\n",
    "                        else:\n",
    "                            if num == 7:\n",
    "                                print(\"Today is Sunday\")\n",
    "                            else:\n",
    "                                print(\"You entered invalid number\")\n",
    "else:\n",
    "    print(\"Please enter number from 1 till 7\")"
   ]
  },
  {
   "cell_type": "code",
   "execution_count": null,
   "id": "9e6618b4-ef7b-43c3-9526-6d31ecf7dfc9",
   "metadata": {},
   "outputs": [],
   "source": [
    "#Question19"
   ]
  },
  {
   "cell_type": "code",
   "execution_count": 58,
   "id": "08079203-bcc5-4c8c-9fbf-08db3ce8eaa7",
   "metadata": {},
   "outputs": [
    {
     "name": "stdin",
     "output_type": "stream",
     "text": [
      "Enter a year 2000\n"
     ]
    },
    {
     "name": "stdout",
     "output_type": "stream",
     "text": [
      "2000 is a leap year and is evenly divisible by 400.\n"
     ]
    }
   ],
   "source": [
    "year = int(input(\"Enter a year\"))\n",
    "\n",
    "if year > 0:\n",
    "    if year % 400 == 0:\n",
    "        print(f\"{year} is a leap year and is evenly divisible by 400.\")\n",
    "    else:\n",
    "        if year % 4 == 0:\n",
    "            print(f\"{year} is a leap year but not evenly divisible by 400.\")\n",
    "        else:\n",
    "            print(f\"{year} is not a leap year.\")\n",
    "else:\n",
    "    print(\"Please enter a valid positive year.\")   "
   ]
  },
  {
   "cell_type": "code",
   "execution_count": null,
   "id": "6e5840b8-6888-42f1-b619-29c1efc8d4f3",
   "metadata": {},
   "outputs": [],
   "source": [
    "#Question20"
   ]
  },
  {
   "cell_type": "code",
   "execution_count": 62,
   "id": "d2944bc1-f01c-4932-a004-db5bb5231221",
   "metadata": {},
   "outputs": [
    {
     "name": "stdin",
     "output_type": "stream",
     "text": [
      "Enter a number : 14\n"
     ]
    },
    {
     "name": "stdout",
     "output_type": "stream",
     "text": [
      "14 is not a prime number.\n"
     ]
    }
   ],
   "source": [
    "number = int(input(\"Enter a number :\"))\n",
    "        \n",
    "if number > 1:  \n",
    "# Assume\n",
    "    is_prime = True \n",
    "\n",
    "    for i in range(2, number):  \n",
    "        if number % i == 0:  \n",
    "            is_prime = False  \n",
    "            break \n",
    "\n",
    "    if is_prime:\n",
    "        print(f\"{number} is a prime number.\")\n",
    "    else:\n",
    "        print(f\"{number} is not a prime number.\")\n",
    "else:\n",
    "    print(f\"{number} is not a prime number.\")          "
   ]
  },
  {
   "cell_type": "code",
   "execution_count": null,
   "id": "427a7efa-d13e-4acb-bb4d-048d1f6da143",
   "metadata": {},
   "outputs": [],
   "source": [
    "#Elif Statements"
   ]
  },
  {
   "cell_type": "code",
   "execution_count": null,
   "id": "0012a45b-7c8b-468a-a9dc-6a0195dee80c",
   "metadata": {},
   "outputs": [],
   "source": [
    "#Question21"
   ]
  },
  {
   "cell_type": "code",
   "execution_count": 72,
   "id": "acaaa8f7-712e-4fa4-8c6b-9b4afea91a3a",
   "metadata": {},
   "outputs": [
    {
     "name": "stdin",
     "output_type": "stream",
     "text": [
      "Enter your score : 80\n"
     ]
    },
    {
     "name": "stdout",
     "output_type": "stream",
     "text": [
      "Your score is 80, so your Grade is A\n"
     ]
    }
   ],
   "source": [
    "score = int(input(\"Enter your score :\"))\n",
    "\n",
    "if (90 < score <=100):\n",
    "    print(f\"Your score is {score}, so your Grade is A+\")\n",
    "elif (70 < score <=90):\n",
    "    print(f\"Your score is {score}, so your Grade is A\")\n",
    "elif (50 < score <=70):\n",
    "    print(f\"Your score is {score}, so your Grade is B\")\n",
    "elif (30 < score <=50):\n",
    "    print(f\"Your score is {score}, so your Grade is C\")\n",
    "else:\n",
    "    print(f\"Your score is {score}, so you are FAIL\")"
   ]
  },
  {
   "cell_type": "code",
   "execution_count": null,
   "id": "10a1f602-252e-4d60-bd6b-f5aed1fa70e5",
   "metadata": {},
   "outputs": [],
   "source": [
    "#Question22"
   ]
  },
  {
   "cell_type": "code",
   "execution_count": 77,
   "id": "d069d849-aa57-40bd-9cca-f6641e53262a",
   "metadata": {},
   "outputs": [
    {
     "name": "stdin",
     "output_type": "stream",
     "text": [
      "Enter the measure of an angle in degree: 60\n"
     ]
    },
    {
     "name": "stdout",
     "output_type": "stream",
     "text": [
      "It is an acute angle\n"
     ]
    }
   ],
   "source": [
    "angle = float(input(\"Enter the measure of an angle in degree:\"))\n",
    "\n",
    "if (angle == 0):\n",
    "    print(\"It is a zero angle\")\n",
    "elif (0 < angle < 90):\n",
    "    print(\"It is an acute angle\")\n",
    "elif (angle == 90):\n",
    "    print(\"It is a right angle\")\n",
    "elif (90 < angle < 180):\n",
    "    print(\"It is an obtuse angle\")\n",
    "elif (angle == 180):\n",
    "    print(\"It is a straight angle\")\n",
    "elif (180 < angle < 360):\n",
    "    print(\"It is a reflex angle\")\n",
    "elif (angle == 360):\n",
    "    print(\"It is an complete angle\")\n",
    "else:\n",
    "    print(\"It is a negative angle\")"
   ]
  },
  {
   "cell_type": "code",
   "execution_count": null,
   "id": "efd168ee-19be-488c-935d-9b14304999b5",
   "metadata": {},
   "outputs": [],
   "source": [
    "#Question23"
   ]
  },
  {
   "cell_type": "code",
   "execution_count": 78,
   "id": "66150b3e-a7d3-4271-a879-a269512f7e6d",
   "metadata": {},
   "outputs": [
    {
     "name": "stdin",
     "output_type": "stream",
     "text": [
      "Enter your body weight in kilograms 58\n",
      "Enter your height in metres 1.524\n"
     ]
    },
    {
     "name": "stdout",
     "output_type": "stream",
     "text": [
      "Person is Obese\n"
     ]
    }
   ],
   "source": [
    "weight = float(input(\"Enter your body weight in kilograms\"))\n",
    "height = float(input(\"Enter your height in metres\"))\n",
    "\n",
    "BMI = (weight / (height*height))\n",
    "\n",
    "if (BMI < 18.5):\n",
    "    print(\"Person is underweight\")\n",
    "elif (18.5 <= BMI <= 24.9):\n",
    "    print(\"Person is normal\")\n",
    "elif (25.0 <= BMI <= 29.9):\n",
    "    print(\"Person is Overweight\")\n",
    "else:\n",
    "    print(\"Person is Obese\")\n"
   ]
  },
  {
   "cell_type": "code",
   "execution_count": null,
   "id": "0aad217b-8662-4902-b274-fcc0dd335b17",
   "metadata": {},
   "outputs": [],
   "source": [
    "#Question24"
   ]
  },
  {
   "cell_type": "code",
   "execution_count": 81,
   "id": "fdd3523c-d5da-442e-8791-79b638b07d87",
   "metadata": {},
   "outputs": [
    {
     "name": "stdin",
     "output_type": "stream",
     "text": [
      "Enter a number -4\n"
     ]
    },
    {
     "name": "stdout",
     "output_type": "stream",
     "text": [
      "Number is negative\n"
     ]
    }
   ],
   "source": [
    "number = int(input(\"Enter a number\"))\n",
    "\n",
    "if number == 0:\n",
    "    print(\"Number is zero\")\n",
    "elif number > 0:\n",
    "    print(\"Number is positive\")\n",
    "else:\n",
    "    print(\"Number is negative\")"
   ]
  },
  {
   "cell_type": "code",
   "execution_count": null,
   "id": "58df04f7-6e6a-4a1d-8439-7aa4d25d9937",
   "metadata": {},
   "outputs": [],
   "source": [
    "#Question25"
   ]
  },
  {
   "cell_type": "code",
   "execution_count": 84,
   "id": "eb67d383-fe87-4e95-aac1-ffb44c07ce90",
   "metadata": {},
   "outputs": [
    {
     "name": "stdin",
     "output_type": "stream",
     "text": [
      "Enter a single character @\n"
     ]
    },
    {
     "name": "stdout",
     "output_type": "stream",
     "text": [
      "The character '@' is: Special\n"
     ]
    }
   ],
   "source": [
    "char = input(\"Enter a single character\")\n",
    "\n",
    "if len(char) == 1:\n",
    "    if char.isupper():\n",
    "        print(f\"The character '{char}' is: Uppercase\")\n",
    "    elif char.islower():\n",
    "        print(f\"The character '{char}' is: Lowercase\")\n",
    "    else:\n",
    "        print(f\"The character '{char}' is: Special\")\n",
    "        \n",
    "else:\n",
    "    print(\"Please enter a single character\")"
   ]
  },
  {
   "cell_type": "code",
   "execution_count": null,
   "id": "2eca33ef-f6b7-4718-bcfc-31a604197360",
   "metadata": {},
   "outputs": [],
   "source": [
    "#Question26"
   ]
  },
  {
   "cell_type": "code",
   "execution_count": 3,
   "id": "1f894ee8-a697-483c-917d-4fb2c174423b",
   "metadata": {},
   "outputs": [
    {
     "name": "stdin",
     "output_type": "stream",
     "text": [
      "Enter the purchase amount: Rs 600\n"
     ]
    },
    {
     "name": "stdout",
     "output_type": "stream",
     "text": [
      "The discounted price is: Rs 480.00\n"
     ]
    }
   ],
   "source": [
    "purchase_amount = float(input(\"Enter the purchase amount: Rs\"))\n",
    "\n",
    "discount_rate = 0\n",
    "\n",
    "if purchase_amount >= 500:\n",
    "    discount_rate = 0.20  \n",
    "elif purchase_amount >= 200:\n",
    "    discount_rate = 0.15  \n",
    "elif purchase_amount >= 100:\n",
    "    discount_rate = 0.10 \n",
    "elif purchase_amount >= 50:\n",
    "    discount_rate = 0.05  \n",
    "else:\n",
    "     discount_rate = 0.0 \n",
    "\n",
    "discounted_price = purchase_amount * (1 - discount_rate)\n",
    "\n",
    "print(f\"The discounted price is: Rs {discounted_price:.2f}\")"
   ]
  },
  {
   "cell_type": "code",
   "execution_count": null,
   "id": "0218364e-2001-4950-9619-496de2bb5d5c",
   "metadata": {},
   "outputs": [],
   "source": [
    "#Question27"
   ]
  },
  {
   "cell_type": "code",
   "execution_count": 4,
   "id": "cc08757b-f674-4984-afc7-b8237eb675f2",
   "metadata": {},
   "outputs": [
    {
     "name": "stdin",
     "output_type": "stream",
     "text": [
      "Enter the electricity consumption in units:  300\n"
     ]
    },
    {
     "name": "stdout",
     "output_type": "stream",
     "text": [
      "The total electricity bill is: Rs 800.00\n"
     ]
    }
   ],
   "source": [
    "units_consumed = float(input(\"Enter the electricity consumption in units: \"))\n",
    "\n",
    "bill_amount = 0\n",
    "\n",
    "if units_consumed <= 100:\n",
    "     # Rs 1.5 per unit for the first 100 units\n",
    "    bill_amount = units_consumed * 1.5  \n",
    "elif units_consumed <= 200:\n",
    "     # Rs 2.5 per unit for the next 100 units\n",
    "    bill_amount = (100 * 1.5) + (units_consumed - 100) * 2.5  \n",
    "elif units_consumed <= 300:\n",
    "    # Rs 4.0 per unit for the next 100 units\n",
    "    bill_amount = (100 * 1.5) + (100 * 2.5) + (units_consumed - 200) * 4.0 \n",
    "else:\n",
    "    # Rs 6.0 per unit for units above 300\n",
    "    bill_amount = (100 * 1.5) + (100 * 2.5) + (100 * 4.0) + (units_consumed - 300) * 6.0 \n",
    "\n",
    "print(f\"The total electricity bill is: Rs {bill_amount:.2f}\")"
   ]
  },
  {
   "cell_type": "code",
   "execution_count": null,
   "id": "0c48c3ac-53fd-4f6f-bcee-6583fe689569",
   "metadata": {},
   "outputs": [],
   "source": [
    "#question28"
   ]
  },
  {
   "cell_type": "code",
   "execution_count": 1,
   "id": "06243ce0-6fa6-4b76-9d5b-523bd4f9a41b",
   "metadata": {},
   "outputs": [
    {
     "name": "stdin",
     "output_type": "stream",
     "text": [
      "Enter the length of the first side:  5\n",
      "Enter the length of the second side:  5\n",
      "Enter the length of the third side:  5\n",
      "Enter the length of the fourth side:  5\n",
      "Enter the first angle (in degrees):  90\n",
      "Enter the second angle (in degrees):  90\n",
      "Enter the third angle (in degrees):  90\n",
      "Enter the fourth angle (in degrees):  90\n"
     ]
    },
    {
     "name": "stdout",
     "output_type": "stream",
     "text": [
      "The quadrilateral is a Square.\n"
     ]
    }
   ],
   "source": [
    "side1 = float(input(\"Enter the length of the first side: \"))\n",
    "side2 = float(input(\"Enter the length of the second side: \"))\n",
    "side3 = float(input(\"Enter the length of the third side: \"))\n",
    "side4 = float(input(\"Enter the length of the fourth side: \"))\n",
    "\n",
    "angle1 = float(input(\"Enter the first angle (in degrees): \"))\n",
    "angle2 = float(input(\"Enter the second angle (in degrees): \"))\n",
    "angle3 = float(input(\"Enter the third angle (in degrees): \"))\n",
    "angle4 = float(input(\"Enter the fourth angle (in degrees): \"))\n",
    "\n",
    "if angle1 + angle2 + angle3 + angle4 != 360:\n",
    "    print(\"The angles do not form a quadrilateral.\")\n",
    "else:\n",
    "\n",
    "    if side1 == side2 == side3 == side4:\n",
    "        if angle1 == angle2 == angle3 == angle4 == 90:\n",
    "            print(\"The quadrilateral is a Square.\")\n",
    "        else:\n",
    "            print(\"The quadrilateral is a Rhombus.\")\n",
    "    elif side1 == side3 and side2 == side4:\n",
    "        if angle1 == angle2 == angle3 == angle4 == 90:\n",
    "            print(\"The quadrilateral is a Rectangle.\")\n",
    "        else:\n",
    "            print(\"The quadrilateral is a Parallelogram.\")\n",
    "    elif (angle1 + angle2 == 180) or (angle2 + angle3 == 180) or (angle3 + angle4 == 180) or (angle4 + angle1 == 180):\n",
    "        print(\"The quadrilateral is a Trapezium.\")\n",
    "    else:\n",
    "        print(\"The quadrilateral is an Irregular Quadrilateral.\")"
   ]
  },
  {
   "cell_type": "code",
   "execution_count": null,
   "id": "f24d8069-4c30-47ae-8277-0f28eb3c9f71",
   "metadata": {},
   "outputs": [],
   "source": [
    "#Question29"
   ]
  },
  {
   "cell_type": "code",
   "execution_count": 2,
   "id": "7b88ba4f-4f42-406f-9670-d9221855c3ad",
   "metadata": {},
   "outputs": [
    {
     "name": "stdin",
     "output_type": "stream",
     "text": [
      "Enter a month in number from 1 to 12: 5\n"
     ]
    },
    {
     "name": "stdout",
     "output_type": "stream",
     "text": [
      "Spring\n"
     ]
    }
   ],
   "source": [
    "month = int(input(\"Enter a month in number from 1 to 12:\"))\n",
    "\n",
    "if month in [1, 2, 12]:\n",
    "    print(\"Winter\")\n",
    "elif month in [3, 4, 5]:\n",
    "    print(\"Spring\")\n",
    "elif month in [6, 7, 8]:\n",
    "    print(\"Summer\")\n",
    "elif month in [9, 10, 11]:\n",
    "    print(\"Autumn\")\n",
    "else:\n",
    "    print(\"Invalid input\")"
   ]
  },
  {
   "cell_type": "code",
   "execution_count": null,
   "id": "1d6a52bf-6798-4db0-b43d-847f05eef241",
   "metadata": {},
   "outputs": [],
   "source": [
    "#Question30"
   ]
  },
  {
   "cell_type": "code",
   "execution_count": 3,
   "id": "43e48338-fc7c-4239-8a81-ed2f481aed11",
   "metadata": {},
   "outputs": [
    {
     "name": "stdin",
     "output_type": "stream",
     "text": [
      "Enter a year:  2002\n",
      "Enter a month (1-12):  2\n"
     ]
    },
    {
     "name": "stdout",
     "output_type": "stream",
     "text": [
      "The year 2002 is a Common Year.\n",
      "The month 2 has 28 days.\n"
     ]
    }
   ],
   "source": [
    "year = int(input(\"Enter a year: \"))\n",
    "month = int(input(\"Enter a month (1-12): \"))\n",
    "\n",
    "if (year % 4 == 0 and year % 100 != 0) or (year % 400 == 0):\n",
    "    year_type = \"Leap Year\"\n",
    "else:\n",
    "    year_type = \"Common Year\"\n",
    "\n",
    "if month == 2:\n",
    "    if year_type == \"Leap Year\":\n",
    "        month_days = 29\n",
    "    else:\n",
    "        month_days = 28\n",
    "elif month in [4, 6, 9, 11]:\n",
    "    month_days = 30\n",
    "elif month in [1, 3, 5, 7, 8, 10, 12]:\n",
    "    month_days = 31\n",
    "else:\n",
    "    month_days = \"Invalid month\"\n",
    "\n",
    "print(f\"The year {year} is a {year_type}.\")\n",
    "if isinstance(month_days, int):\n",
    "    print(f\"The month {month} has {month_days} days.\")\n",
    "else:\n",
    "    print(month_days)"
   ]
  },
  {
   "cell_type": "code",
   "execution_count": null,
   "id": "d75ef611-8069-4525-8d8e-893f0d6854fd",
   "metadata": {},
   "outputs": [],
   "source": [
    "# Basic level"
   ]
  },
  {
   "cell_type": "code",
   "execution_count": null,
   "id": "26cf45a7-2485-40b2-b283-2e70b70694da",
   "metadata": {},
   "outputs": [],
   "source": [
    "#Question1"
   ]
  },
  {
   "cell_type": "code",
   "execution_count": 4,
   "id": "08655fd7-f5b6-40f8-b9ff-1c2b68a031b4",
   "metadata": {},
   "outputs": [
    {
     "name": "stdin",
     "output_type": "stream",
     "text": [
      "Enter a number:  2\n"
     ]
    },
    {
     "name": "stdout",
     "output_type": "stream",
     "text": [
      "Number is positive\n"
     ]
    }
   ],
   "source": [
    "num = int(input(\"Enter a number: \"))\n",
    "\n",
    "if num == 0:\n",
    "    print(\"Number is zero\")\n",
    "elif num < 0 :\n",
    "    print(\"Number is negative\")\n",
    "else :\n",
    "    print(\"Number is positive\")"
   ]
  },
  {
   "cell_type": "code",
   "execution_count": null,
   "id": "f5f9b07f-2fe4-4e68-a292-9c4dad9ce587",
   "metadata": {},
   "outputs": [],
   "source": [
    "#Question2"
   ]
  },
  {
   "cell_type": "code",
   "execution_count": 5,
   "id": "93ca5518-22bf-416f-9d17-3e99dea588fc",
   "metadata": {},
   "outputs": [
    {
     "name": "stdin",
     "output_type": "stream",
     "text": [
      "Enter a person's age :  22\n"
     ]
    },
    {
     "name": "stdout",
     "output_type": "stream",
     "text": [
      "Person is eligible to vote\n"
     ]
    }
   ],
   "source": [
    "age = int(input(\"Enter a person's age : \"))\n",
    "\n",
    "valid_age = 18\n",
    "\n",
    "if age < 18:\n",
    "    print(\"Person is not eligible to vote\")\n",
    "else:\n",
    "    print(\"Person is eligible to vote\")"
   ]
  },
  {
   "cell_type": "code",
   "execution_count": null,
   "id": "f993bff0-c07b-40f4-b29d-9a28fe0100cc",
   "metadata": {},
   "outputs": [],
   "source": [
    "#Question3"
   ]
  },
  {
   "cell_type": "code",
   "execution_count": 6,
   "id": "bbfcb3aa-ed6f-415a-92ce-ab4debef275b",
   "metadata": {},
   "outputs": [
    {
     "name": "stdin",
     "output_type": "stream",
     "text": [
      "Enter a number :  3\n",
      "Enter a number :  33\n"
     ]
    },
    {
     "name": "stdout",
     "output_type": "stream",
     "text": [
      "33 is greater than 3\n"
     ]
    }
   ],
   "source": [
    "num1 = int(input(\"Enter a number : \"))\n",
    "num2 = int(input(\"Enter a number : \"))\n",
    "\n",
    "if num1 > num2 :\n",
    "    print(f\"{num1} is greater than {num2}\")\n",
    "else:\n",
    "    print(f\"{num2} is greater than {num1}\")"
   ]
  },
  {
   "cell_type": "code",
   "execution_count": null,
   "id": "7b70db8a-8fec-44cf-8410-b29c976bf8a5",
   "metadata": {},
   "outputs": [],
   "source": [
    "#Question4"
   ]
  },
  {
   "cell_type": "code",
   "execution_count": 9,
   "id": "8a88bdad-3850-4b13-a9bf-35b2d381bc01",
   "metadata": {},
   "outputs": [
    {
     "name": "stdin",
     "output_type": "stream",
     "text": [
      "Enter your score from 1 to 100:  50.55\n"
     ]
    },
    {
     "name": "stdout",
     "output_type": "stream",
     "text": [
      "Your score is 50.55, so your grade is B\n"
     ]
    }
   ],
   "source": [
    "score = float(input(\"Enter your score from 1 to 100: \"))\n",
    "\n",
    "if score > 0:\n",
    "    if (80 <= score <=100):\n",
    "        print(f\"Your score is {score}, so your grade is A+\")\n",
    "    elif (60 <= score <80):\n",
    "        print(f\"Your score is {score}, so your grade is A\")\n",
    "    elif (40 <= score < 60):\n",
    "        print(f\"Your score is {score}, so your grade is B\")\n",
    "    elif (30 <= score < 40):\n",
    "        print(f\"Your score is {score}, so your grade is C\")\n",
    "    else:\n",
    "        print(f\"Your score is {score}, so you are fail\")\n",
    "else:\n",
    "    print(\"Please enter correct input\")"
   ]
  },
  {
   "cell_type": "code",
   "execution_count": null,
   "id": "8fe589cd-3fc1-4566-9c72-e229c4e40f94",
   "metadata": {},
   "outputs": [],
   "source": [
    "#Question5"
   ]
  },
  {
   "cell_type": "code",
   "execution_count": 10,
   "id": "a57413fe-7c1b-46ff-b348-11a0b2c798e0",
   "metadata": {},
   "outputs": [
    {
     "name": "stdin",
     "output_type": "stream",
     "text": [
      "Enter a year:  2015\n"
     ]
    },
    {
     "name": "stdout",
     "output_type": "stream",
     "text": [
      "2015 is not a leap year\n"
     ]
    }
   ],
   "source": [
    "year = int(input(\"Enter a year: \"))\n",
    "\n",
    "if year % 4 == 0:\n",
    "    print(f\"{year} is a leap year\")\n",
    "else:\n",
    "    print(f\"{year} is not a leap year\")"
   ]
  },
  {
   "cell_type": "code",
   "execution_count": null,
   "id": "d36ba25e-48a4-445b-9061-87da2b04c346",
   "metadata": {},
   "outputs": [],
   "source": [
    "#Question6"
   ]
  },
  {
   "cell_type": "code",
   "execution_count": 11,
   "id": "c0b3d45b-5a8a-4125-a7ca-e8cace850dfa",
   "metadata": {},
   "outputs": [
    {
     "name": "stdin",
     "output_type": "stream",
     "text": [
      "Enter the side's length in cm:  5\n",
      "Enter the side's length in cm:  7\n",
      "Enter the side's length in cm:  7\n"
     ]
    },
    {
     "name": "stdout",
     "output_type": "stream",
     "text": [
      "Triangle is isosceles\n"
     ]
    }
   ],
   "source": [
    "side1 = int(input(\"Enter the side's length in cm: \"))\n",
    "side2 = int(input(\"Enter the side's length in cm: \"))\n",
    "side3 = int(input(\"Enter the side's length in cm: \"))\n",
    "\n",
    "if (side1 == side2 == side3):\n",
    "    print(\"Triangle is equilateral\")\n",
    "elif (side1 != side2 and side2 != side3 and side1 != side3):\n",
    "    print(\"Triangle is scalene\")\n",
    "else:\n",
    "    print(\"Triangle is isosceles\")"
   ]
  },
  {
   "cell_type": "code",
   "execution_count": null,
   "id": "6204284c-3ae0-49b9-9c45-03fd2deba659",
   "metadata": {},
   "outputs": [],
   "source": [
    "#Question7"
   ]
  },
  {
   "cell_type": "code",
   "execution_count": 13,
   "id": "d3995e86-10f6-4688-a5f5-99c4963ca7fc",
   "metadata": {},
   "outputs": [
    {
     "name": "stdin",
     "output_type": "stream",
     "text": [
      "Enter first number:  3\n",
      "Enter second number:  7\n",
      "Enter third number:  7\n"
     ]
    },
    {
     "name": "stdout",
     "output_type": "stream",
     "text": [
      "7.0 is greatest\n"
     ]
    }
   ],
   "source": [
    "num1 = float(input(\"Enter first number: \"))\n",
    "num2 = float(input(\"Enter second number: \"))\n",
    "num3 = float(input(\"Enter third number: \")) \n",
    "\n",
    "if (num1 > num2 and num1 > num3):\n",
    "    print(f\"{num1} is greatest\")\n",
    "elif (num2 > num3 and num2 > num1):\n",
    "    print(f\"{num2} is greatest\")\n",
    "else :\n",
    "    print(f\"{num3} is greatest\")"
   ]
  },
  {
   "cell_type": "code",
   "execution_count": null,
   "id": "8b70a0ea-2483-46e2-a88d-7c3d212b4eb4",
   "metadata": {},
   "outputs": [],
   "source": [
    "#Question8"
   ]
  },
  {
   "cell_type": "code",
   "execution_count": 14,
   "id": "26269ee6-7ab7-4d29-b50a-9ff2ab4d8f2c",
   "metadata": {},
   "outputs": [
    {
     "name": "stdin",
     "output_type": "stream",
     "text": [
      "Enter a single character:  s\n"
     ]
    },
    {
     "name": "stdout",
     "output_type": "stream",
     "text": [
      "The character 's' is a consonant.\n"
     ]
    }
   ],
   "source": [
    "char = input(\"Enter a single character: \").lower()\n",
    "\n",
    "if len(char) != 1 or not char.isalpha():\n",
    "    print(\"Invalid input! Please enter a single alphabetic character.\")\n",
    "elif char in 'aeiou':\n",
    "    print(f\"The character '{char}' is a vowel.\")\n",
    "else:\n",
    "    print(f\"The character '{char}' is a consonant.\")"
   ]
  },
  {
   "cell_type": "code",
   "execution_count": null,
   "id": "99bcc461-d3a1-49fb-ae98-eb222464e106",
   "metadata": {},
   "outputs": [],
   "source": [
    "#Question9"
   ]
  },
  {
   "cell_type": "code",
   "execution_count": 15,
   "id": "c167681d-1b36-4e37-91e2-12c3f1322276",
   "metadata": {},
   "outputs": [
    {
     "name": "stdin",
     "output_type": "stream",
     "text": [
      "Enter the total price of the shopping cart: Rs  400\n"
     ]
    },
    {
     "name": "stdout",
     "output_type": "stream",
     "text": [
      "Original Total Price: Rs 400.00\n",
      "Discount Applied: 15.0%\n",
      "Discount Amount: Rs 60.00\n",
      "Final Price to Pay: Rs 340.00\n"
     ]
    }
   ],
   "source": [
    "total_price = float(input(\"Enter the total price of the shopping cart: Rs \"))\n",
    "\n",
    "if total_price > 500:\n",
    "    discount = 0.20  \n",
    "elif total_price > 200:\n",
    "    discount = 0.15  \n",
    "elif total_price > 100:\n",
    "    discount = 0.10 \n",
    "else:\n",
    "    discount = 0.05\n",
    "\n",
    "discount_amount = total_price * discount\n",
    "\n",
    "final_price = total_price - discount_amount\n",
    "\n",
    "print(f\"Original Total Price: Rs {total_price:.2f}\")\n",
    "print(f\"Discount Applied: {discount * 100}%\")\n",
    "print(f\"Discount Amount: Rs {discount_amount:.2f}\")\n",
    "print(f\"Final Price to Pay: Rs {final_price:.2f}\")"
   ]
  },
  {
   "cell_type": "code",
   "execution_count": null,
   "id": "1cdd8f85-0e57-4794-99f3-6829c4ca93ca",
   "metadata": {},
   "outputs": [],
   "source": [
    "#Question10"
   ]
  },
  {
   "cell_type": "code",
   "execution_count": 16,
   "id": "8a2c1b62-2a59-4c77-9390-d27966aac977",
   "metadata": {},
   "outputs": [
    {
     "name": "stdin",
     "output_type": "stream",
     "text": [
      "Enter a number: 5\n"
     ]
    },
    {
     "name": "stdout",
     "output_type": "stream",
     "text": [
      "5 is odd\n"
     ]
    }
   ],
   "source": [
    "num = int(input(\"Enter a number:\"))\n",
    "\n",
    "if num >= 0:\n",
    "    if num % 2 == 0 :\n",
    "        print(f\"{num} is even\")\n",
    "    else:\n",
    "        print(f\"{num} is odd\")\n",
    "else:\n",
    "    print(\"Enter correct input\")"
   ]
  },
  {
   "cell_type": "code",
   "execution_count": null,
   "id": "8aecc89d-6107-4ac3-a2aa-aad7b4cb4b05",
   "metadata": {},
   "outputs": [],
   "source": [
    "# Intermediate Level"
   ]
  },
  {
   "cell_type": "code",
   "execution_count": null,
   "id": "20e34b27-df48-4197-aed9-868ee0296a56",
   "metadata": {},
   "outputs": [],
   "source": [
    "#Question11"
   ]
  },
  {
   "cell_type": "code",
   "execution_count": 17,
   "id": "a63b7eda-bb61-4fda-9028-0533971b5833",
   "metadata": {},
   "outputs": [
    {
     "name": "stdin",
     "output_type": "stream",
     "text": [
      "Enter coefficient a:  2\n",
      "Enter coefficient b:  8\n",
      "Enter coefficient c:  1\n"
     ]
    },
    {
     "name": "stdout",
     "output_type": "stream",
     "text": [
      "The equation has two real and distinct roots: -0.12917130661302934 and -3.8708286933869704.\n"
     ]
    }
   ],
   "source": [
    "import math\n",
    "\n",
    "a = float(input(\"Enter coefficient a: \"))\n",
    "b = float(input(\"Enter coefficient b: \"))\n",
    "c = float(input(\"Enter coefficient c: \"))\n",
    "\n",
    "discriminant = b**2 - 4*a*c\n",
    "\n",
    "if a == 0:\n",
    "    print(\"The equation is not quadratic (a should not be zero).\")\n",
    "else:\n",
    "    if discriminant > 0:\n",
    "        root1 = (-b + math.sqrt(discriminant)) / (2*a)\n",
    "        root2 = (-b - math.sqrt(discriminant)) / (2*a)\n",
    "        print(f\"The equation has two real and distinct roots: {root1} and {root2}.\")\n",
    "    \n",
    "    if discriminant == 0:\n",
    "        root = -b / (2*a)\n",
    "        print(f\"The equation has one real and repeated root: {root}.\")\n",
    "    \n",
    "    if discriminant < 0:\n",
    "        real_part = -b / (2*a)\n",
    "        imaginary_part = math.sqrt(-discriminant) / (2*a)\n",
    "        print(f\"The equation has two complex roots: {real_part} + {imaginary_part}i and {real_part} - {imaginary_part}i.\")"
   ]
  },
  {
   "cell_type": "code",
   "execution_count": null,
   "id": "53063480-977f-4c22-969b-0ceb23c50b30",
   "metadata": {},
   "outputs": [],
   "source": [
    "#Question12"
   ]
  },
  {
   "cell_type": "code",
   "execution_count": 18,
   "id": "60ba635a-d9e9-4b2f-8373-51128910926f",
   "metadata": {},
   "outputs": [
    {
     "name": "stdin",
     "output_type": "stream",
     "text": [
      "Enter the day number between 1 to 7:  5\n"
     ]
    },
    {
     "name": "stdout",
     "output_type": "stream",
     "text": [
      "Today is Friday\n"
     ]
    }
   ],
   "source": [
    "day = int(input(\"Enter the day number between 1 to 7: \"))\n",
    "\n",
    "if day == 1:\n",
    "    print(\"Today is Monday\")\n",
    "elif day == 2:\n",
    "    print(\"Today is Tuesday\")\n",
    "elif day == 3:\n",
    "    print(\"Today is Wednesday\")\n",
    "elif day == 4:\n",
    "    print(\"Today is Thursday\")\n",
    "elif day == 5:\n",
    "    print(\"Today is Friday\")\n",
    "elif day == 6:\n",
    "    print(\"Today is Saturday\")\n",
    "elif day == 7:\n",
    "    print(\"Today is Sunday\")\n",
    "else:\n",
    "    print(\"Enter correct input\")"
   ]
  },
  {
   "cell_type": "code",
   "execution_count": null,
   "id": "8e80b441-a23d-47da-86a5-dd95eb6ff3fd",
   "metadata": {},
   "outputs": [],
   "source": [
    "#Question13"
   ]
  },
  {
   "cell_type": "code",
   "execution_count": 19,
   "id": "80ec8ef5-c8a5-414b-8ea9-9f0c2dc37319",
   "metadata": {},
   "outputs": [
    {
     "name": "stdin",
     "output_type": "stream",
     "text": [
      "Enter a non - negative number:  5\n"
     ]
    },
    {
     "name": "stdout",
     "output_type": "stream",
     "text": [
      "The factorial of 5 is 120\n"
     ]
    }
   ],
   "source": [
    "n = int(input(\"Enter a non - negative number: \"))\n",
    "\n",
    "def factorial(n):\n",
    "    if n == 0 or n ==1:\n",
    "        return 1\n",
    "    else:\n",
    "        return n * factorial(n-1)\n",
    "\n",
    "if n < 0:\n",
    "    print(\"Factorial is not defined for negative numbers\")\n",
    "else:\n",
    "    result = factorial(n)\n",
    "    print(f\"The factorial of {n} is {result}\")"
   ]
  },
  {
   "cell_type": "code",
   "execution_count": null,
   "id": "5752f1b1-9735-403d-8169-6fd00acbb215",
   "metadata": {},
   "outputs": [],
   "source": [
    "#Question14"
   ]
  },
  {
   "cell_type": "code",
   "execution_count": 20,
   "id": "2af456aa-e024-4b6b-900a-db16489ff13b",
   "metadata": {},
   "outputs": [
    {
     "name": "stdin",
     "output_type": "stream",
     "text": [
      "Enter a number:  3\n",
      "Enter a number:  4\n",
      "Enter a number:  1\n"
     ]
    },
    {
     "name": "stdout",
     "output_type": "stream",
     "text": [
      "4.0 is greatest\n"
     ]
    }
   ],
   "source": [
    "num1 = float(input(\"Enter a number: \"))\n",
    "num2 = float(input(\"Enter a number: \"))\n",
    "num3 = float(input(\"Enter a number: \"))\n",
    "\n",
    "if (num1 > num2 and num1 > num3):\n",
    "    print(f\"{num1} is greatest\")\n",
    "elif (num2 > num3 and num2 > num1):\n",
    "    print(f\"{num2} is greatest\")\n",
    "else:\n",
    "    print(f\"{num3} is greatest\")"
   ]
  },
  {
   "cell_type": "code",
   "execution_count": null,
   "id": "884d03e6-5cb5-4fcf-95c7-97bb0cfb38cf",
   "metadata": {},
   "outputs": [],
   "source": [
    "#Question15"
   ]
  },
  {
   "cell_type": "code",
   "execution_count": 21,
   "id": "d5888727-2582-44c7-8f28-aee2438d79c4",
   "metadata": {},
   "outputs": [
    {
     "name": "stdout",
     "output_type": "stream",
     "text": [
      "\n",
      "ATM Menu:\n",
      "1. Check Balance\n",
      "2. Deposit Money\n",
      "3. Withdraw Money\n",
      "4. Exit\n"
     ]
    },
    {
     "name": "stdin",
     "output_type": "stream",
     "text": [
      "Please choose an option (1-4):  1\n"
     ]
    },
    {
     "name": "stdout",
     "output_type": "stream",
     "text": [
      "\n",
      "Your current balance is: Rs 1000.00\n",
      "\n",
      "ATM Menu:\n",
      "1. Check Balance\n",
      "2. Deposit Money\n",
      "3. Withdraw Money\n",
      "4. Exit\n"
     ]
    },
    {
     "name": "stdin",
     "output_type": "stream",
     "text": [
      "Please choose an option (1-4):  2\n",
      "\n",
      "Enter the amount to deposit: Rs  200\n"
     ]
    },
    {
     "name": "stdout",
     "output_type": "stream",
     "text": [
      "Rs 200.00 has been deposited successfully.\n",
      "New balance: Rs 1200.00\n",
      "\n",
      "ATM Menu:\n",
      "1. Check Balance\n",
      "2. Deposit Money\n",
      "3. Withdraw Money\n",
      "4. Exit\n"
     ]
    },
    {
     "name": "stdin",
     "output_type": "stream",
     "text": [
      "Please choose an option (1-4):  3\n",
      "\n",
      "Enter the amount to withdraw: Rs  11\n"
     ]
    },
    {
     "name": "stdout",
     "output_type": "stream",
     "text": [
      "Rs 11.00 has been withdrawn successfully.\n",
      "New balance: Rs 1189.00\n",
      "\n",
      "ATM Menu:\n",
      "1. Check Balance\n",
      "2. Deposit Money\n",
      "3. Withdraw Money\n",
      "4. Exit\n"
     ]
    },
    {
     "name": "stdin",
     "output_type": "stream",
     "text": [
      "Please choose an option (1-4):  4\n"
     ]
    },
    {
     "name": "stdout",
     "output_type": "stream",
     "text": [
      "Thank you for using the ATM. Goodbye!\n"
     ]
    }
   ],
   "source": [
    "# Initial balance \n",
    "balance = 1000.00\n",
    "\n",
    "def display_menu():\n",
    "    print(\"\\nATM Menu:\")\n",
    "    print(\"1. Check Balance\")\n",
    "    print(\"2. Deposit Money\")\n",
    "    print(\"3. Withdraw Money\")\n",
    "    print(\"4. Exit\")\n",
    "\n",
    "def atm():\n",
    "    global balance\n",
    "    while True:\n",
    "        display_menu()\n",
    "        choice = input(\"Please choose an option (1-4): \")\n",
    "\n",
    "        if choice == '1':\n",
    "            # Check Balance\n",
    "            print(f\"\\nYour current balance is: Rs {balance:.2f}\")\n",
    "        \n",
    "        elif choice == '2':\n",
    "            # Deposit Money\n",
    "            deposit_amount = float(input(\"\\nEnter the amount to deposit: Rs \"))\n",
    "            if deposit_amount > 0:\n",
    "                balance += deposit_amount\n",
    "                print(f\"Rs {deposit_amount:.2f} has been deposited successfully.\")\n",
    "                print(f\"New balance: Rs {balance:.2f}\")\n",
    "            else:\n",
    "                print(\"Invalid amount. Please enter a positive number.\")\n",
    "        \n",
    "        elif choice == '3':\n",
    "            # Withdraw Money\n",
    "            withdraw_amount = float(input(\"\\nEnter the amount to withdraw: Rs \"))\n",
    "            if 0 < withdraw_amount <= balance:\n",
    "                balance -= withdraw_amount\n",
    "                print(f\"Rs {withdraw_amount:.2f} has been withdrawn successfully.\")\n",
    "                print(f\"New balance: Rs {balance:.2f}\")\n",
    "            elif withdraw_amount > balance:\n",
    "                print(\"Insufficient funds.\")\n",
    "            else:\n",
    "                print(\"Invalid amount. Please enter a positive number.\")\n",
    "        \n",
    "        elif choice == '4':\n",
    "            # Exit\n",
    "            print(\"Thank you for using the ATM. Goodbye!\")\n",
    "            break\n",
    "        \n",
    "        else:\n",
    "            print(\"Invalid choice. Please select a valid option.\")\n",
    "\n",
    "atm()"
   ]
  },
  {
   "cell_type": "code",
   "execution_count": null,
   "id": "ba477418-9102-49b3-b094-0cf7c5826b97",
   "metadata": {},
   "outputs": [],
   "source": [
    "#Question16"
   ]
  },
  {
   "cell_type": "code",
   "execution_count": 22,
   "id": "8ef85531-7d6f-4582-9f31-59c921ed1c2f",
   "metadata": {},
   "outputs": [
    {
     "name": "stdin",
     "output_type": "stream",
     "text": [
      "Enter a string paper\n"
     ]
    },
    {
     "name": "stdout",
     "output_type": "stream",
     "text": [
      "The string paper is not palindrome\n"
     ]
    }
   ],
   "source": [
    "str = input(\"Enter a string\")\n",
    "if str == str[::-1]:\n",
    "    print(f\"The string {str} is palindrome\")\n",
    "else:\n",
    "    print(f\"The string {str} is not palindrome\")"
   ]
  },
  {
   "cell_type": "code",
   "execution_count": null,
   "id": "2dd84cb9-23dc-478f-b86c-9bb19fc37cc1",
   "metadata": {},
   "outputs": [],
   "source": [
    "#Question17"
   ]
  },
  {
   "cell_type": "code",
   "execution_count": 27,
   "id": "f5b0f53a-574f-4f1f-bad0-8b3ae3da8db4",
   "metadata": {},
   "outputs": [
    {
     "name": "stdin",
     "output_type": "stream",
     "text": [
      "Enter a list of numbers separated by spaces:  1 2 3 4 5 \n"
     ]
    },
    {
     "name": "stdout",
     "output_type": "stream",
     "text": [
      "The average of the list excluding the smallest and largest values is: 3.00\n"
     ]
    }
   ],
   "source": [
    "def average_excluding_min_max(numbers):\n",
    "    if len(numbers) <= 2:\n",
    "        return \"Not enough numbers to calculate the average after excluding min and max.\"\n",
    "\n",
    "    # Remove the smallest and largest values\n",
    "    smallest = min(numbers)\n",
    "    largest = max(numbers)\n",
    "    \n",
    "    numbers.remove(smallest)\n",
    "    numbers.remove(largest)\n",
    "    \n",
    "     # Calculate the average\n",
    "    total = sum(numbers)\n",
    "    count = len(numbers)\n",
    "    average = total / count\n",
    "    return average\n",
    "\n",
    "numbers_input = input(\"Enter a list of numbers separated by spaces: \")\n",
    "numbers_list = [] \n",
    "\n",
    "for num in numbers_input.split():\n",
    "    numbers_list.append(float(num))  \n",
    "\n",
    "result = average_excluding_min_max(numbers_list)\n",
    "\n",
    "if (type(result) == str):\n",
    "    print(result)\n",
    "else:\n",
    "    print(f\"The average of the list excluding the smallest and largest values is: {result:.2f}\")"
   ]
  },
  {
   "cell_type": "code",
   "execution_count": null,
   "id": "b37becae-cb2e-41b3-ab89-a6c749a3b46b",
   "metadata": {},
   "outputs": [],
   "source": [
    "#Question18"
   ]
  },
  {
   "cell_type": "code",
   "execution_count": 28,
   "id": "b0cf129c-25eb-436c-a23a-5fc348108ddf",
   "metadata": {},
   "outputs": [
    {
     "name": "stdin",
     "output_type": "stream",
     "text": [
      "Enter the temperature in Celsius:  22\n"
     ]
    },
    {
     "name": "stdout",
     "output_type": "stream",
     "text": [
      "The temperature in Fahrenheit is: 71.60°F\n"
     ]
    }
   ],
   "source": [
    "celsius_input = float(input(\"Enter the temperature in Celsius: \"))\n",
    "\n",
    "# formula\n",
    "fahrenheit = (celsius_input * 9/5) + 32\n",
    "\n",
    "print(f\"The temperature in Fahrenheit is: {fahrenheit:.2f}°F\")"
   ]
  },
  {
   "cell_type": "code",
   "execution_count": null,
   "id": "c2bd06c0-af89-4d9d-b17b-8f2ca96cda20",
   "metadata": {},
   "outputs": [],
   "source": [
    "#Question19"
   ]
  },
  {
   "cell_type": "code",
   "execution_count": 29,
   "id": "065193ee-3195-4ca3-be09-26990cd9a816",
   "metadata": {},
   "outputs": [
    {
     "name": "stdin",
     "output_type": "stream",
     "text": [
      "Enter the first number:  5\n",
      "Enter the second number:  6\n"
     ]
    },
    {
     "name": "stdout",
     "output_type": "stream",
     "text": [
      "Select the operation:\n",
      "1. Addition (+)\n",
      "2. Subtraction (-)\n",
      "3. Multiplication (*)\n",
      "4. Division (/)\n"
     ]
    },
    {
     "name": "stdin",
     "output_type": "stream",
     "text": [
      "Enter the operation (1/2/3/4):  3\n"
     ]
    },
    {
     "name": "stdout",
     "output_type": "stream",
     "text": [
      "The result of 5.0 * 6.0 is: 30.0\n"
     ]
    }
   ],
   "source": [
    "num1 = float(input(\"Enter the first number: \"))\n",
    "num2 = float(input(\"Enter the second number: \"))\n",
    "\n",
    "# Display the operations\n",
    "print(\"Select the operation:\")\n",
    "print(\"1. Addition (+)\")\n",
    "print(\"2. Subtraction (-)\")\n",
    "print(\"3. Multiplication (*)\")\n",
    "print(\"4. Division (/)\")\n",
    "\n",
    "operation = input(\"Enter the operation (1/2/3/4): \")\n",
    "\n",
    "# Actions according to user's choice\n",
    "if operation == '1':\n",
    "    result = num1 + num2\n",
    "    print(f\"The result of {num1} + {num2} is: {result}\")\n",
    "elif operation == '2':\n",
    "    result = num1 - num2\n",
    "    print(f\"The result of {num1} - {num2} is: {result}\")\n",
    "elif operation == '3':\n",
    "    result = num1 * num2\n",
    "    print(f\"The result of {num1} * {num2} is: {result}\")\n",
    "elif operation == '4':\n",
    "    if num2 != 0:\n",
    "        result = num1 / num2\n",
    "        print(f\"The result of {num1} / {num2} is: {result}\")\n",
    "    else:\n",
    "        print(\"Error: Division by zero is not allowed.\")\n",
    "else:\n",
    "    print(\"Invalid operation selected.\")"
   ]
  },
  {
   "cell_type": "code",
   "execution_count": null,
   "id": "67bbda3f-02b9-47a8-8eaf-82b63fff486e",
   "metadata": {},
   "outputs": [],
   "source": [
    "#Question20"
   ]
  },
  {
   "cell_type": "code",
   "execution_count": 30,
   "id": "ee34b8af-3170-4bea-a8e5-f5d38fbef3a9",
   "metadata": {},
   "outputs": [
    {
     "name": "stdin",
     "output_type": "stream",
     "text": [
      "Enter the coefficient a (for ax^3):  2\n",
      "Enter the coefficient b (for bx^2):  3\n",
      "Enter the coefficient c (for cx):  1\n",
      "Enter the constant d:  6\n"
     ]
    },
    {
     "name": "stdout",
     "output_type": "stream",
     "text": [
      "Roots are: 0.75 (real), 0.66-1.25j (complex), -1.41-0.05j (complex)\n"
     ]
    }
   ],
   "source": [
    "import cmath \n",
    "\n",
    "a = float(input(\"Enter the coefficient a (for ax^3): \"))\n",
    "b = float(input(\"Enter the coefficient b (for bx^2): \"))\n",
    "c = float(input(\"Enter the coefficient c (for cx): \"))\n",
    "d = float(input(\"Enter the constant d: \"))\n",
    "\n",
    "# Convert to depressed cubic\n",
    "p = (3 * a * c - b**2) / (3 * a**2)\n",
    "q = (2 * b**3 - 9 * a * b * c + 27 * a**2 * d) / (27 * a**3)\n",
    "\n",
    "# Calculate the discriminant\n",
    "D = (q / 2)**2 + (p / 3)**3\n",
    "\n",
    "# Find roots\n",
    "if D > 0:  # One real root and two complex roots\n",
    "    u = (-q / 2 + cmath.sqrt(D))**(1/3)\n",
    "    v = (-q / 2 - cmath.sqrt(D))**(1/3)\n",
    "    root1 = u + v\n",
    "    root2 = -(u + v) / 2 + (u - v) * cmath.sqrt(3) / 2 * 1j\n",
    "    root3 = -(u + v) / 2 - (u - v) * cmath.sqrt(3) / 2 * 1j\n",
    "    print(f\"Roots are: {root1.real:.2f} (real), {root2:.2f} (complex), {root3:.2f} (complex)\")\n",
    "elif D == 0:  # All roots are real and at least two are equal\n",
    "    root1 = (3 * q / p)**(1/3)\n",
    "    root2 = -root1 / 2\n",
    "    root3 = -root1 / 2\n",
    "    print(f\"Roots are: {root1:.2f} (real), {root2:.2f} (real), {root3:.2f} (real)\")\n",
    "else:  # All roots are real and unequal\n",
    "    r = (-q / 2)**0.5\n",
    "    theta = cmath.acos(-q / (2 * r**3))\n",
    "    root1 = 2 * r * cmath.cos(theta / 3)\n",
    "    root2 = 2 * r * cmath.cos((theta + 2 * cmath.pi) / 3)\n",
    "    root3 = 2 * r * cmath.cos((theta + 4 * cmath.pi) / 3)\n",
    "    print(f\"Roots are: {root1:.2f} (real), {root2:.2f} (real), {root3:.2f} (real)\")"
   ]
  },
  {
   "cell_type": "code",
   "execution_count": null,
   "id": "3cc9361d-5402-4462-b9e6-dd1d71904c91",
   "metadata": {},
   "outputs": [],
   "source": [
    "# Advanced Level"
   ]
  },
  {
   "cell_type": "code",
   "execution_count": null,
   "id": "945a1a6a-1e90-4bb8-b401-4304457d77b8",
   "metadata": {},
   "outputs": [],
   "source": [
    "#Question21"
   ]
  },
  {
   "cell_type": "code",
   "execution_count": 2,
   "id": "cbc0a91d-21f3-4599-a7f4-3a22dc5e6c88",
   "metadata": {},
   "outputs": [
    {
     "name": "stdin",
     "output_type": "stream",
     "text": [
      "Enter your income: $  400\n"
     ]
    },
    {
     "name": "stdout",
     "output_type": "stream",
     "text": [
      "Your total income tax is: $ 40.00\n"
     ]
    }
   ],
   "source": [
    "def calculate_tax(income, tax_brackets):\n",
    "    \"\"\"\n",
    "    Calculate the income tax based on income and tax brackets.\n",
    "\n",
    "    :param income: The total income\n",
    "    :param tax_brackets: A list of tuples where each tuple contains:\n",
    "                         (upper limit of the bracket, tax rate for that bracket)\n",
    "                         The list should be sorted by the upper limit of the brackets in ascending order.\n",
    "    :return: The total tax owed\n",
    "    \"\"\"\n",
    "    tax = 0.0\n",
    "    previous_limit = 0\n",
    "\n",
    "    for upper_limit, rate in tax_brackets:\n",
    "        if income > upper_limit:\n",
    "            tax += (upper_limit - previous_limit) * rate\n",
    "        else:\n",
    "            tax += (income - previous_limit) * rate\n",
    "            break\n",
    "        previous_limit = upper_limit\n",
    "\n",
    "    return tax\n",
    "\n",
    "def main():\n",
    "    tax_brackets = [\n",
    "        (9875, 0.10), \n",
    "        (40125, 0.12), \n",
    "        (85525, 0.22), \n",
    "        (163300, 0.24),\n",
    "        (207350, 0.32),\n",
    "        (518400, 0.35),\n",
    "        (float('inf'), 0.37) \n",
    "    ]\n",
    "\n",
    "    # input\n",
    "    income = float(input(\"Enter your income: $ \"))\n",
    "\n",
    "    # Calculate the tax\n",
    "    tax_owed = calculate_tax(income, tax_brackets)\n",
    "\n",
    "    # Display the result\n",
    "    print(f\"Your total income tax is: $ {tax_owed:.2f}\")\n",
    "\n",
    "if __name__ == \"__main__\":\n",
    "    main()"
   ]
  },
  {
   "cell_type": "code",
   "execution_count": 1,
   "id": "67e9e1e3-e648-4498-9b7b-4c3db7689907",
   "metadata": {},
   "outputs": [],
   "source": [
    "#Question22"
   ]
  },
  {
   "cell_type": "code",
   "execution_count": 4,
   "id": "4927c7f7-0c69-4296-bb58-b15f9783be8e",
   "metadata": {},
   "outputs": [
    {
     "name": "stdout",
     "output_type": "stream",
     "text": [
      "Welcome to Rock-Paper-Scissors!\n"
     ]
    },
    {
     "name": "stdin",
     "output_type": "stream",
     "text": [
      "Enter your choice (rock, paper, or scissors):  scissors\n"
     ]
    },
    {
     "name": "stdout",
     "output_type": "stream",
     "text": [
      "\n",
      "You chose: scissors\n",
      "Computer chose: scissors\n",
      "Result: It's a tie!\n"
     ]
    },
    {
     "name": "stdin",
     "output_type": "stream",
     "text": [
      "\n",
      "Do you want to play again? (yes/no):  yes\n",
      "Enter your choice (rock, paper, or scissors):  paper\n"
     ]
    },
    {
     "name": "stdout",
     "output_type": "stream",
     "text": [
      "\n",
      "You chose: paper\n",
      "Computer chose: rock\n",
      "Result: You win!\n"
     ]
    },
    {
     "name": "stdin",
     "output_type": "stream",
     "text": [
      "\n",
      "Do you want to play again? (yes/no):  yes\n",
      "Enter your choice (rock, paper, or scissors):  rock\n"
     ]
    },
    {
     "name": "stdout",
     "output_type": "stream",
     "text": [
      "\n",
      "You chose: rock\n",
      "Computer chose: rock\n",
      "Result: It's a tie!\n"
     ]
    },
    {
     "name": "stdin",
     "output_type": "stream",
     "text": [
      "\n",
      "Do you want to play again? (yes/no):  no\n"
     ]
    },
    {
     "name": "stdout",
     "output_type": "stream",
     "text": [
      "Thanks for playing!\n"
     ]
    }
   ],
   "source": [
    "import random\n",
    "\n",
    "def get_computer_choice():\n",
    "    return random.choice(['rock', 'paper', 'scissors'])\n",
    "\n",
    "def get_user_choice():\n",
    "    while True:\n",
    "        choice = input(\"Enter your choice (rock, paper, or scissors): \").lower()\n",
    "        if choice in ['rock', 'paper', 'scissors']:\n",
    "            return choice\n",
    "        print(\"Invalid choice, please try again.\")\n",
    "\n",
    "def determine_winner(user_choice, computer_choice):\n",
    "    if user_choice == computer_choice:\n",
    "        return \"It's a tie!\"\n",
    "    elif (user_choice == 'rock' and computer_choice == 'scissors') or \\\n",
    "         (user_choice == 'scissors' and computer_choice == 'paper') or \\\n",
    "         (user_choice == 'paper' and computer_choice == 'rock'):\n",
    "        return \"You win!\"\n",
    "    else:\n",
    "        return \"Computer wins!\"\n",
    "\n",
    "def main():\n",
    "    print(\"Welcome to Rock-Paper-Scissors!\")\n",
    "    \n",
    "    while True:\n",
    "        user_choice = get_user_choice()\n",
    "        computer_choice = get_computer_choice()\n",
    "\n",
    "        print(f\"\\nYou chose: {user_choice}\")\n",
    "        print(f\"Computer chose: {computer_choice}\")\n",
    "\n",
    "        result = determine_winner(user_choice, computer_choice)\n",
    "        print(f\"Result: {result}\")\n",
    "\n",
    "        play_again = input(\"\\nDo you want to play again? (yes/no): \").lower()\n",
    "        if play_again != 'yes':\n",
    "            print(\"Thanks for playing!\")\n",
    "            break\n",
    "\n",
    "if __name__ == \"__main__\":\n",
    "    main()"
   ]
  },
  {
   "cell_type": "code",
   "execution_count": null,
   "id": "e06beae3-b511-45e5-9e3f-0f61fcddc1d8",
   "metadata": {},
   "outputs": [],
   "source": [
    "#Question23"
   ]
  },
  {
   "cell_type": "code",
   "execution_count": 5,
   "id": "679dc32d-3732-4fd1-b009-ef857d8a0a09",
   "metadata": {},
   "outputs": [
    {
     "name": "stdout",
     "output_type": "stream",
     "text": [
      "Welcome to the Random Password Generator!\n"
     ]
    },
    {
     "name": "stdin",
     "output_type": "stream",
     "text": [
      "Enter the desired password length:  8\n",
      "Include uppercase letters? (yes/no):  yes\n",
      "Include numbers? (yes/no):  yes\n",
      "Include special characters? (yes/no):  yes\n"
     ]
    },
    {
     "name": "stdout",
     "output_type": "stream",
     "text": [
      "\n",
      "Your generated password is: {xXnBep4\n"
     ]
    }
   ],
   "source": [
    "import random\n",
    "import string\n",
    "\n",
    "def generate_password(length, use_uppercase, use_numbers, use_special):\n",
    "\n",
    "    characters = string.ascii_lowercase\n",
    "\n",
    "    if use_uppercase:\n",
    "        characters += string.ascii_uppercase\n",
    "        \n",
    "    if use_numbers:\n",
    "        characters += string.digits\n",
    "\n",
    "    if use_special:\n",
    "        characters += string.punctuation\n",
    "\n",
    "    # Generate password\n",
    "    password = ''.join(random.choice(characters) for _ in range(length))\n",
    "    \n",
    "    return password\n",
    "\n",
    "def main():\n",
    "    print(\"Welcome to the Random Password Generator!\")\n",
    "\n",
    "    length = int(input(\"Enter the desired password length: \"))\n",
    "    use_uppercase = input(\"Include uppercase letters? (yes/no): \").lower() == 'yes'\n",
    "    use_numbers = input(\"Include numbers? (yes/no): \").lower() == 'yes'\n",
    "    use_special = input(\"Include special characters? (yes/no): \").lower() == 'yes'\n",
    "\n",
    "    password = generate_password(length, use_uppercase, use_numbers, use_special)\n",
    "\n",
    "    print(f\"\\nYour generated password is: {password}\")\n",
    "\n",
    "main()"
   ]
  },
  {
   "cell_type": "code",
   "execution_count": null,
   "id": "f84658bf-aa2b-435a-ada3-d458ee5216e7",
   "metadata": {},
   "outputs": [],
   "source": [
    "#Question24"
   ]
  },
  {
   "cell_type": "code",
   "execution_count": 6,
   "id": "5bedfbf9-6b99-4af4-ac8a-be85690ed126",
   "metadata": {},
   "outputs": [
    {
     "name": "stdout",
     "output_type": "stream",
     "text": [
      "Welcome to the Adventure Game!\n",
      "You find yourself standing at the entrance of a dark cave.\n",
      "Do you want to ENTER the cave or WALK AWAY?\n"
     ]
    },
    {
     "name": "stdin",
     "output_type": "stream",
     "text": [
      ">  \n"
     ]
    },
    {
     "name": "stdout",
     "output_type": "stream",
     "text": [
      "Invalid choice! Try again.\n",
      "Welcome to the Adventure Game!\n",
      "You find yourself standing at the entrance of a dark cave.\n",
      "Do you want to ENTER the cave or WALK AWAY?\n"
     ]
    },
    {
     "name": "stdin",
     "output_type": "stream",
     "text": [
      ">  yes\n"
     ]
    },
    {
     "name": "stdout",
     "output_type": "stream",
     "text": [
      "Invalid choice! Try again.\n",
      "Welcome to the Adventure Game!\n",
      "You find yourself standing at the entrance of a dark cave.\n",
      "Do you want to ENTER the cave or WALK AWAY?\n"
     ]
    },
    {
     "name": "stdin",
     "output_type": "stream",
     "text": [
      ">  enter\n"
     ]
    },
    {
     "name": "stdout",
     "output_type": "stream",
     "text": [
      "\n",
      "You enter the cave and it's dark and cold.\n",
      "You see a faint light further down the tunnel.\n",
      "Do you want to FOLLOW the light or TURN BACK?\n"
     ]
    },
    {
     "name": "stdin",
     "output_type": "stream",
     "text": [
      ">  follow\n"
     ]
    },
    {
     "name": "stdout",
     "output_type": "stream",
     "text": [
      "\n",
      "You follow the light and find yourself in a room full of treasure!\n",
      "Do you want to TAKE the treasure or LEAVE it?\n"
     ]
    },
    {
     "name": "stdin",
     "output_type": "stream",
     "text": [
      ">  take\n"
     ]
    },
    {
     "name": "stdout",
     "output_type": "stream",
     "text": [
      "\n",
      "As you take the treasure, the cave starts to collapse!\n",
      "You barely make it out alive, but you are rich beyond your wildest dreams!\n",
      "Congratulations, you win!\n"
     ]
    }
   ],
   "source": [
    "def intro():\n",
    "    print(\"Welcome to the Adventure Game!\")\n",
    "    print(\"You find yourself standing at the entrance of a dark cave.\")\n",
    "    print(\"Do you want to ENTER the cave or WALK AWAY?\")\n",
    "    choice = input(\"> \").lower()\n",
    "\n",
    "    if choice == \"enter\":\n",
    "        cave_entrance()\n",
    "    elif choice == \"walk away\":\n",
    "        walk_away()\n",
    "    else:\n",
    "        print(\"Invalid choice! Try again.\")\n",
    "        intro()\n",
    "\n",
    "def cave_entrance():\n",
    "    print(\"\\nYou enter the cave and it's dark and cold.\")\n",
    "    print(\"You see a faint light further down the tunnel.\")\n",
    "    print(\"Do you want to FOLLOW the light or TURN BACK?\")\n",
    "    choice = input(\"> \").lower()\n",
    "\n",
    "    if choice == \"follow\":\n",
    "        treasure_room()\n",
    "    elif choice == \"turn back\":\n",
    "        intro()\n",
    "    else:\n",
    "        print(\"Invalid choice! Try again.\")\n",
    "        cave_entrance()\n",
    "\n",
    "def treasure_room():\n",
    "    print(\"\\nYou follow the light and find yourself in a room full of treasure!\")\n",
    "    print(\"Do you want to TAKE the treasure or LEAVE it?\")\n",
    "    choice = input(\"> \").lower()\n",
    "\n",
    "    if choice == \"take\":\n",
    "        print(\"\\nAs you take the treasure, the cave starts to collapse!\")\n",
    "        print(\"You barely make it out alive, but you are rich beyond your wildest dreams!\")\n",
    "        print(\"Congratulations, you win!\")\n",
    "    elif choice == \"leave\":\n",
    "        print(\"\\nYou decide not to take the treasure and turn back.\")\n",
    "        print(\"As you leave the cave, you feel a sense of peace and contentment.\")\n",
    "        print(\"Sometimes, the greatest treasure is knowing when to walk away.\")\n",
    "        print(\"Congratulations, you win!\")\n",
    "    else:\n",
    "        print(\"Invalid choice! Try again.\")\n",
    "        treasure_room()\n",
    "\n",
    "def walk_away():\n",
    "    print(\"\\nYou decide to walk away from the cave.\")\n",
    "    print(\"As you leave, you can't help but wonder what might have been.\")\n",
    "    print(\"But sometimes, the safest choice is the best choice.\")\n",
    "    print(\"Game over!\")\n",
    "\n",
    "# Start the game\n",
    "intro()"
   ]
  },
  {
   "cell_type": "code",
   "execution_count": null,
   "id": "d3a38cc6-2994-46b1-a4d8-4fb5dc748973",
   "metadata": {},
   "outputs": [],
   "source": [
    "#Question25"
   ]
  },
  {
   "cell_type": "code",
   "execution_count": 7,
   "id": "2c9163dc-30ef-43cb-a9ba-e5db6a9356d9",
   "metadata": {},
   "outputs": [
    {
     "name": "stdout",
     "output_type": "stream",
     "text": [
      "Solve the linear equation ax + b = 0\n"
     ]
    },
    {
     "name": "stdin",
     "output_type": "stream",
     "text": [
      "Enter the coefficient a:  5\n",
      "Enter the coefficient b:  2\n"
     ]
    },
    {
     "name": "stdout",
     "output_type": "stream",
     "text": [
      "The solution is x = -0.4\n"
     ]
    }
   ],
   "source": [
    "def solve_linear_equation(a, b):\n",
    "    \n",
    "    if a == 0:\n",
    "        if b == 0:\n",
    "            # Case 1:\n",
    "            return \"Infinite solutions (any value of x will satisfy the equation).\"\n",
    "        else:\n",
    "            # Case 2:\n",
    "            return \"No solution (the equation is inconsistent).\"\n",
    "    else:\n",
    "        # Case 3:\n",
    "        x = -b / a\n",
    "        return f\"The solution is x = {x}\"\n",
    "\n",
    "def main():\n",
    "    print(\"Solve the linear equation ax + b = 0\")\n",
    "\n",
    "    a = float(input(\"Enter the coefficient a: \"))\n",
    "    b = float(input(\"Enter the coefficient b: \"))\n",
    "\n",
    "    result = solve_linear_equation(a, b)\n",
    "    \n",
    "    print(result)\n",
    "\n",
    "main()"
   ]
  },
  {
   "cell_type": "code",
   "execution_count": null,
   "id": "08da2978-0283-4db4-9079-228a5e37c5c2",
   "metadata": {},
   "outputs": [],
   "source": [
    "#Question26"
   ]
  },
  {
   "cell_type": "code",
   "execution_count": 8,
   "id": "1c7c3d34-efde-4dce-a732-ff9c01354eef",
   "metadata": {},
   "outputs": [
    {
     "name": "stdout",
     "output_type": "stream",
     "text": [
      "Welcome to the Quiz Game!\n",
      "What is the capital of France?\n",
      "1. Berlin\n",
      "2. Madrid\n",
      "3. Paris\n",
      "4. Lisbon\n"
     ]
    },
    {
     "name": "stdin",
     "output_type": "stream",
     "text": [
      "Enter the number of your answer:  1\n"
     ]
    },
    {
     "name": "stdout",
     "output_type": "stream",
     "text": [
      "Wrong! The correct answer was Paris.\n",
      "\n",
      "Who wrote 'To Kill a Mockingbird'?\n",
      "1. Harper Lee\n",
      "2. Mark Twain\n",
      "3. Ernest Hemingway\n",
      "4. F. Scott Fitzgerald\n"
     ]
    },
    {
     "name": "stdin",
     "output_type": "stream",
     "text": [
      "Enter the number of your answer:  2\n"
     ]
    },
    {
     "name": "stdout",
     "output_type": "stream",
     "text": [
      "Wrong! The correct answer was Harper Lee.\n",
      "\n",
      "What is the smallest prime number?\n",
      "1. 0\n",
      "2. 1\n",
      "3. 2\n",
      "4. 3\n"
     ]
    },
    {
     "name": "stdin",
     "output_type": "stream",
     "text": [
      "Enter the number of your answer:  3\n"
     ]
    },
    {
     "name": "stdout",
     "output_type": "stream",
     "text": [
      "Correct!\n",
      "\n",
      "Which planet is known as the Red Planet?\n",
      "1. Earth\n",
      "2. Mars\n",
      "3. Jupiter\n",
      "4. Venus\n"
     ]
    },
    {
     "name": "stdin",
     "output_type": "stream",
     "text": [
      "Enter the number of your answer:  2\n"
     ]
    },
    {
     "name": "stdout",
     "output_type": "stream",
     "text": [
      "Correct!\n",
      "\n",
      "What is the chemical symbol for water?\n",
      "1. O2\n",
      "2. H2O\n",
      "3. CO2\n",
      "4. HO\n"
     ]
    },
    {
     "name": "stdin",
     "output_type": "stream",
     "text": [
      "Enter the number of your answer:  2\n"
     ]
    },
    {
     "name": "stdout",
     "output_type": "stream",
     "text": [
      "Correct!\n",
      "\n",
      "Your final score is 3 out of 5.\n"
     ]
    }
   ],
   "source": [
    "def ask_question(question, options, correct_answer):\n",
    "\n",
    "    print(question)\n",
    "    for i, option in enumerate(options, 1):\n",
    "        print(f\"{i}. {option}\")\n",
    "    \n",
    "    answer = int(input(\"Enter the number of your answer: \"))\n",
    "    \n",
    "    if options[answer - 1].lower() == correct_answer.lower():\n",
    "        print(\"Correct!\\n\")\n",
    "        return True\n",
    "    else:\n",
    "        print(f\"Wrong! The correct answer was {correct_answer}.\\n\")\n",
    "        return False\n",
    "\n",
    "def run_quiz():\n",
    "    print(\"Welcome to the Quiz Game!\")\n",
    "    \n",
    "    # List of questions, options, and correct answers\n",
    "    questions = [\n",
    "        {\n",
    "            \"question\": \"What is the capital of France?\",\n",
    "            \"options\": [\"Berlin\", \"Madrid\", \"Paris\", \"Lisbon\"],\n",
    "            \"correct_answer\": \"Paris\"\n",
    "        },\n",
    "        {\n",
    "            \"question\": \"Who wrote 'To Kill a Mockingbird'?\",\n",
    "            \"options\": [\"Harper Lee\", \"Mark Twain\", \"Ernest Hemingway\", \"F. Scott Fitzgerald\"],\n",
    "            \"correct_answer\": \"Harper Lee\"\n",
    "        },\n",
    "        {\n",
    "            \"question\": \"What is the smallest prime number?\",\n",
    "            \"options\": [\"0\", \"1\", \"2\", \"3\"],\n",
    "            \"correct_answer\": \"2\"\n",
    "        },\n",
    "        {\n",
    "            \"question\": \"Which planet is known as the Red Planet?\",\n",
    "            \"options\": [\"Earth\", \"Mars\", \"Jupiter\", \"Venus\"],\n",
    "            \"correct_answer\": \"Mars\"\n",
    "        },\n",
    "        {\n",
    "            \"question\": \"What is the chemical symbol for water?\",\n",
    "            \"options\": [\"O2\", \"H2O\", \"CO2\", \"HO\"],\n",
    "            \"correct_answer\": \"H2O\"\n",
    "        }\n",
    "    ]\n",
    "    \n",
    "    score = 0\n",
    "    \n",
    "    # Ask each question\n",
    "    for q in questions:\n",
    "        if ask_question(q[\"question\"], q[\"options\"], q[\"correct_answer\"]):\n",
    "            score += 1\n",
    "    \n",
    "    print(f\"Your final score is {score} out of {len(questions)}.\")\n",
    "\n",
    "run_quiz()"
   ]
  },
  {
   "cell_type": "code",
   "execution_count": null,
   "id": "8104222b-ac98-49fc-8f2b-86f5ca5e8f78",
   "metadata": {},
   "outputs": [],
   "source": [
    "#Question27"
   ]
  },
  {
   "cell_type": "code",
   "execution_count": 9,
   "id": "71e40ea7-167a-4507-b819-4b9ba4fdfca0",
   "metadata": {},
   "outputs": [
    {
     "name": "stdout",
     "output_type": "stream",
     "text": [
      "Prime Number Checker\n"
     ]
    },
    {
     "name": "stdin",
     "output_type": "stream",
     "text": [
      "Enter a year:  2014\n"
     ]
    },
    {
     "name": "stdout",
     "output_type": "stream",
     "text": [
      "2014 is not a prime number.\n"
     ]
    }
   ],
   "source": [
    "def is_prime(year):\n",
    "\n",
    "    if year <= 1:\n",
    "        return False  \n",
    "    \n",
    "    for i in range(2, year):\n",
    "        if year % i == 0:\n",
    "            return False \n",
    "    \n",
    "    return True \n",
    "\n",
    "def main():\n",
    "    print(\"Prime Number Checker\")\n",
    "\n",
    "    year = int(input(\"Enter a year: \"))\n",
    "    \n",
    "    if is_prime(year):\n",
    "        print(f\"{year} is a prime number.\")\n",
    "    else:\n",
    "        print(f\"{year} is not a prime number.\")\n",
    "\n",
    "main()"
   ]
  },
  {
   "cell_type": "code",
   "execution_count": null,
   "id": "a08050a9-cb8f-4326-ac64-b4bcc859a735",
   "metadata": {},
   "outputs": [],
   "source": [
    "#Question28"
   ]
  },
  {
   "cell_type": "code",
   "execution_count": 10,
   "id": "911d1435-780c-4bd8-ad70-d19f087f4fef",
   "metadata": {},
   "outputs": [
    {
     "name": "stdout",
     "output_type": "stream",
     "text": [
      "Sort Three Numbers in Ascending Order\n"
     ]
    },
    {
     "name": "stdin",
     "output_type": "stream",
     "text": [
      "Enter the first number:  5\n",
      "Enter the second number:  7\n",
      "Enter the third number:  3\n"
     ]
    },
    {
     "name": "stdout",
     "output_type": "stream",
     "text": [
      "The sorted numbers in ascending order are: 3.0, 5.0, 7.0\n"
     ]
    }
   ],
   "source": [
    "def sort_three_numbers(num1, num2, num3):\n",
    "    # Sorts three numbers in ascending order\n",
    "    if num1 <= num2 and num1 <= num3:\n",
    "       \n",
    "        if num2 <= num3:\n",
    "            return num1, num2, num3  \n",
    "        else:\n",
    "            return num1, num3, num2  \n",
    "    elif num2 <= num1 and num2 <= num3:\n",
    " \n",
    "        if num1 <= num3:\n",
    "            return num2, num1, num3 \n",
    "        else:\n",
    "            return num2, num3, num1  \n",
    "    else:\n",
    "        \n",
    "        if num1 <= num2:\n",
    "            return num3, num1, num2 \n",
    "        else:\n",
    "            return num3, num2, num1 \n",
    "\n",
    "def main():\n",
    "    print(\"Sort Three Numbers in Ascending Order\")\n",
    "\n",
    "    num1 = float(input(\"Enter the first number: \"))\n",
    "    num2 = float(input(\"Enter the second number: \"))\n",
    "    num3 = float(input(\"Enter the third number: \"))\n",
    "\n",
    "    sorted_numbers = sort_three_numbers(num1, num2, num3)\n",
    "\n",
    "    print(f\"The sorted numbers in ascending order are: {sorted_numbers[0]}, {sorted_numbers[1]}, {sorted_numbers[2]}\")\n",
    "\n",
    "main()"
   ]
  },
  {
   "cell_type": "code",
   "execution_count": null,
   "id": "b18d4cec-6ff1-4515-8ffe-f0398c68761f",
   "metadata": {},
   "outputs": [],
   "source": [
    "#Question29"
   ]
  },
  {
   "cell_type": "code",
   "execution_count": 7,
   "id": "3970de2e-a953-46b4-b423-32e469494b08",
   "metadata": {},
   "outputs": [
    {
     "name": "stdout",
     "output_type": "stream",
     "text": [
      "The roots of the equation are: [2.+0.j 1.+1.j 1.-1.j 1.+0.j]\n"
     ]
    }
   ],
   "source": [
    "import numpy as np\n",
    "\n",
    "def find_roots(a, b, c, d, e):\n",
    "    \n",
    "    coefficients = [a, b, c, d, e]\n",
    "    \n",
    "    roots = np.roots(coefficients)\n",
    "    \n",
    "    return roots\n",
    "\n",
    "a, b, c, d, e = 1, -5, 10, -10, 4 \n",
    "roots = find_roots(a, b, c, d, e)\n",
    "\n",
    "print(\"The roots of the equation are:\", roots)"
   ]
  },
  {
   "cell_type": "code",
   "execution_count": null,
   "id": "864cfa56-951d-4c38-bad9-8f55d83e27ac",
   "metadata": {},
   "outputs": [],
   "source": [
    "#Question30"
   ]
  },
  {
   "cell_type": "code",
   "execution_count": 14,
   "id": "e11ad595-51eb-47f1-9dd8-e9142f3ba697",
   "metadata": {},
   "outputs": [
    {
     "name": "stdout",
     "output_type": "stream",
     "text": [
      "Welcome to the BMI Calculator!\n"
     ]
    },
    {
     "name": "stdin",
     "output_type": "stream",
     "text": [
      "Enter your weight in kilograms:  58\n",
      "Enter your height in meters:  1.524\n"
     ]
    },
    {
     "name": "stdout",
     "output_type": "stream",
     "text": [
      "\n",
      "Your BMI is: 24.97\n",
      "Category: Obesity\n",
      "It's advisable to consult a healthcare provider for guidance on weight management.\n"
     ]
    }
   ],
   "source": [
    "def calculate_bmi(weight, height):\n",
    "    \"\"\"Calculate Body Mass Index (BMI).\"\"\"\n",
    "    return weight / (height ** 2)\n",
    "\n",
    "def get_bmi_category(bmi):\n",
    "    # Determine BMI category and health recommendations.\n",
    "    if bmi < 18.5:\n",
    "        return \"Underweight\", \"You should consider gaining weight through a balanced diet and exercise.\"\n",
    "    elif 18.5 <= bmi < 24.9:\n",
    "        return \"Normal weight\", \"Maintain your current lifestyle.\"\n",
    "    elif 25 <= bmi < 29.9:\n",
    "        return \"Overweight\", \"Consider adopting a healthier diet and increasing physical activity.\"\n",
    "    else:\n",
    "        return \"Obesity\", \"It's advisable to consult a healthcare provider for guidance on weight management.\"\n",
    "\n",
    "def main():\n",
    "    print(\"Welcome to the BMI Calculator!\")\n",
    "    \n",
    "    weight = float(input(\"Enter your weight in kilograms: \"))\n",
    "    height = float(input(\"Enter your height in meters: \"))\n",
    "\n",
    "    bmi = calculate_bmi(weight, height)\n",
    "    \n",
    "    category, recommendations = get_bmi_category(bmi)\n",
    "    \n",
    "    print(f\"\\nYour BMI is: {bmi:.2f}\")\n",
    "    print(f\"Category: {category}\")\n",
    "    print(recommendations)\n",
    "\n",
    "main()"
   ]
  },
  {
   "cell_type": "code",
   "execution_count": null,
   "id": "ea19d530-8c9a-44c8-82cc-663f0fba3bfb",
   "metadata": {},
   "outputs": [],
   "source": [
    "# Challenge Level"
   ]
  },
  {
   "cell_type": "code",
   "execution_count": null,
   "id": "44a5848e-aa93-4f41-a5f6-06d01906caa2",
   "metadata": {},
   "outputs": [],
   "source": [
    "#Question31"
   ]
  },
  {
   "cell_type": "code",
   "execution_count": 15,
   "id": "478f9387-61a6-4934-a148-0d59d62c1b33",
   "metadata": {},
   "outputs": [
    {
     "name": "stdout",
     "output_type": "stream",
     "text": [
      "Welcome to the Password Validator!\n"
     ]
    },
    {
     "name": "stdin",
     "output_type": "stream",
     "text": [
      "Enter your password to validate:  Airtel@123\n"
     ]
    },
    {
     "name": "stdout",
     "output_type": "stream",
     "text": [
      "Password is valid.\n"
     ]
    }
   ],
   "source": [
    "def validate_password(password):\n",
    "\n",
    "    # Password must be at least 8 characters long\n",
    "    if len(password) < 8:\n",
    "        return False, \n",
    "    \n",
    "    has_upper = False\n",
    "    has_lower = False\n",
    "    has_digit = False\n",
    "    has_special = False\n",
    "    special_characters = \"!@#$%^&*(),.?\\\":{}|<>\"\n",
    "\n",
    "    for char in password:\n",
    "        if char.isupper():\n",
    "            has_upper = True\n",
    "        elif char.islower():\n",
    "            has_lower = True\n",
    "        elif char.isdigit():\n",
    "            has_digit = True\n",
    "        elif char in special_characters:\n",
    "            has_special = True\n",
    "\n",
    "    # Validate the password based on the flags\n",
    "    if not has_upper:\n",
    "        return False, \n",
    "    if not has_lower:\n",
    "        return False, \n",
    "    if not has_digit:\n",
    "        return False, \n",
    "    if not has_special:\n",
    "        return False, \n",
    "\n",
    "    return True, \"Password is valid.\"\n",
    "\n",
    "def main():\n",
    "    print(\"Welcome to the Password Validator!\")\n",
    "    \n",
    "    password = input(\"Enter your password to validate: \")\n",
    "    \n",
    "    is_valid, message = validate_password(password)\n",
    "    \n",
    "    print(message)\n",
    "\n",
    "main()"
   ]
  },
  {
   "cell_type": "code",
   "execution_count": null,
   "id": "ace7372f-28cc-4002-a8a7-5a39832136dc",
   "metadata": {},
   "outputs": [],
   "source": [
    "#Question32"
   ]
  },
  {
   "cell_type": "code",
   "execution_count": 10,
   "id": "d6d4c6d2-e272-4bb1-adca-8c50484b2360",
   "metadata": {},
   "outputs": [
    {
     "name": "stdin",
     "output_type": "stream",
     "text": [
      "Enter the number of rows in the matrices:  2\n",
      "Enter the number of columns in the matrices:  2\n"
     ]
    },
    {
     "name": "stdout",
     "output_type": "stream",
     "text": [
      "Input matrix 1:\n",
      "Enter the elements for a 2x2 matrix row by row:\n"
     ]
    },
    {
     "name": "stdin",
     "output_type": "stream",
     "text": [
      " 1 3 \n",
      " 4 5\n"
     ]
    },
    {
     "name": "stdout",
     "output_type": "stream",
     "text": [
      "Input matrix 2:\n",
      "Enter the elements for a 2x2 matrix row by row:\n"
     ]
    },
    {
     "name": "stdin",
     "output_type": "stream",
     "text": [
      " 5 2 \n",
      " 7 3\n",
      "Enter 'add' for addition or 'subtract' for subtraction:  subtract\n"
     ]
    },
    {
     "name": "stdout",
     "output_type": "stream",
     "text": [
      "The result of matrix subtraction is:\n",
      "-4 1\n",
      "-3 2\n"
     ]
    }
   ],
   "source": [
    "def input_matrix(rows, cols):\n",
    "    \"\"\"Function to take matrix input from the user.\"\"\"\n",
    "    matrix = []\n",
    "    print(f\"Enter the elements for a {rows}x{cols} matrix row by row:\")\n",
    "    for i in range(rows):\n",
    "        row = list(map(int, input().split()))\n",
    "        if len(row) != cols:\n",
    "            print(f\"Please enter exactly {cols} integers per row.\")\n",
    "            return None\n",
    "        matrix.append(row)\n",
    "    return matrix\n",
    "\n",
    "def print_matrix(matrix):\n",
    "    \"\"\"Function to print a matrix.\"\"\"\n",
    "    for row in matrix:\n",
    "        print(\" \".join(map(str, row)))\n",
    "\n",
    "def add_matrices(matrix1, matrix2):\n",
    "    \"\"\"Function to add two matrices.\"\"\"\n",
    "    rows = len(matrix1)\n",
    "    cols = len(matrix1[0])\n",
    "    result = []\n",
    "    for i in range(rows):\n",
    "        row = []\n",
    "        for j in range(cols):\n",
    "            row.append(matrix1[i][j] + matrix2[i][j])\n",
    "        result.append(row)\n",
    "    return result\n",
    "\n",
    "def subtract_matrices(matrix1, matrix2):\n",
    "    \"\"\"Function to subtract one matrix from another.\"\"\"\n",
    "    rows = len(matrix1)\n",
    "    cols = len(matrix1[0])\n",
    "    result = []\n",
    "    for i in range(rows):\n",
    "        row = []\n",
    "        for j in range(cols):\n",
    "            row.append(matrix1[i][j] - matrix2[i][j])\n",
    "        result.append(row)\n",
    "    return result\n",
    "\n",
    "def main():\n",
    "    \"\"\"Main function to perform matrix addition or subtraction.\"\"\"\n",
    "    rows = int(input(\"Enter the number of rows in the matrices: \"))\n",
    "    cols = int(input(\"Enter the number of columns in the matrices: \"))\n",
    "    \n",
    "    print(\"Input matrix 1:\")\n",
    "    matrix1 = input_matrix(rows, cols)\n",
    "    if matrix1 is None:\n",
    "        return\n",
    "    \n",
    "    print(\"Input matrix 2:\")\n",
    "    matrix2 = input_matrix(rows, cols)\n",
    "    if matrix2 is None:\n",
    "        return\n",
    "    \n",
    "    operation = input(\"Enter 'add' for addition or 'subtract' for subtraction: \").strip().lower()\n",
    "    \n",
    "    if operation == 'add':\n",
    "        result = add_matrices(matrix1, matrix2)\n",
    "        print(\"The result of matrix addition is:\")\n",
    "        print_matrix(result)\n",
    "    elif operation == 'subtract':\n",
    "        result = subtract_matrices(matrix1, matrix2)\n",
    "        print(\"The result of matrix subtraction is:\")\n",
    "        print_matrix(result)\n",
    "    else:\n",
    "        print(\"Invalid operation. Please enter 'add' or 'subtract'.\")\n",
    "\n",
    "if __name__ == \"__main__\":\n",
    "    main()"
   ]
  },
  {
   "cell_type": "code",
   "execution_count": null,
   "id": "dfb39426-90fc-4ac4-8e4e-bcce1ddd0955",
   "metadata": {},
   "outputs": [],
   "source": [
    "#Question33"
   ]
  },
  {
   "cell_type": "code",
   "execution_count": 18,
   "id": "50c7cad3-5ad6-466c-9293-00981b0ae856",
   "metadata": {},
   "outputs": [
    {
     "name": "stdout",
     "output_type": "stream",
     "text": [
      "Greatest Common Divisor (GCD) Calculator\n"
     ]
    },
    {
     "name": "stdin",
     "output_type": "stream",
     "text": [
      "Enter the first number:  50\n",
      "Enter the second number:  20\n"
     ]
    },
    {
     "name": "stdout",
     "output_type": "stream",
     "text": [
      "The GCD of 50 and 20 is: 10\n"
     ]
    }
   ],
   "source": [
    "def gcd(a, b):\n",
    "    # Calculating GCD by using the Euclidean algorithm.\n",
    "    while b:\n",
    "        a, b = b, a % b\n",
    "    return a\n",
    "\n",
    "def main():\n",
    "    print(\"Greatest Common Divisor (GCD) Calculator\")\n",
    "    \n",
    "    num1 = int(input(\"Enter the first number: \"))\n",
    "    num2 = int(input(\"Enter the second number: \"))\n",
    "    \n",
    "    result = gcd(num1, num2)\n",
    "    \n",
    "    print(f\"The GCD of {num1} and {num2} is: {result}\")\n",
    "\n",
    "main()"
   ]
  },
  {
   "cell_type": "code",
   "execution_count": null,
   "id": "089a0fc8-f192-4c80-ae7a-ac9c6a570355",
   "metadata": {},
   "outputs": [],
   "source": [
    "#Question34"
   ]
  },
  {
   "cell_type": "code",
   "execution_count": 1,
   "id": "72221787-2d3b-4bf7-9691-02ac5094b8df",
   "metadata": {},
   "outputs": [
    {
     "name": "stdout",
     "output_type": "stream",
     "text": [
      "Result of matrix multiplication:\n",
      "[58, 64]\n",
      "[139, 154]\n"
     ]
    }
   ],
   "source": [
    "def matrix_multiply(A, B):\n",
    "    rows_A = len(A)\n",
    "    cols_A = len(A[0])\n",
    "    rows_B = len(B)\n",
    "    cols_B = len(B[0])\n",
    "\n",
    "    if cols_A != rows_B:\n",
    "        print(\"Matrix multiplication is not possible. Columns of A must equal rows of B.\")\n",
    "        return None\n",
    "\n",
    "    # Initialize the result matrix with zeros\n",
    "    result = [[0 for _ in range(cols_B)] for _ in range(rows_A)]\n",
    "\n",
    "    for i in range(rows_A):\n",
    "        for j in range(cols_B):\n",
    "            for k in range(cols_A):\n",
    "                result[i][j] += A[i][k] * B[k][j]\n",
    "\n",
    "    return result\n",
    "\n",
    "A = [[1, 2, 3],\n",
    "     [4, 5, 6]]\n",
    "\n",
    "B = [[7, 8],\n",
    "     [9, 10],\n",
    "     [11, 12]]\n",
    "\n",
    "result = matrix_multiply(A, B)\n",
    "if result:\n",
    "    print(\"Result of matrix multiplication:\")\n",
    "    for row in result:\n",
    "        print(row)"
   ]
  },
  {
   "cell_type": "code",
   "execution_count": null,
   "id": "0c00026d-5031-4435-a8fa-7bd4d6814231",
   "metadata": {},
   "outputs": [],
   "source": [
    "#Question35"
   ]
  },
  {
   "cell_type": "code",
   "execution_count": 5,
   "id": "0e73e60e-3627-483f-83d1-5bfe7e2e3462",
   "metadata": {},
   "outputs": [
    {
     "name": "stdout",
     "output_type": "stream",
     "text": [
      "\n",
      "\n",
      "  |   |  \n",
      "-----\n",
      "  |   |  \n",
      "-----\n",
      "  |   |  \n",
      "-----\n"
     ]
    },
    {
     "name": "stdin",
     "output_type": "stream",
     "text": [
      "Enter your move (row and column):  0 0\n"
     ]
    },
    {
     "name": "stdout",
     "output_type": "stream",
     "text": [
      "\n",
      "\n",
      "X |   |  \n",
      "-----\n",
      "  |   |  \n",
      "-----\n",
      "  |   |  \n",
      "-----\n",
      "Computer moves to: (1, 0)\n",
      "\n",
      "\n",
      "X |   |  \n",
      "-----\n",
      "O |   |  \n",
      "-----\n",
      "  |   |  \n",
      "-----\n"
     ]
    },
    {
     "name": "stdin",
     "output_type": "stream",
     "text": [
      "Enter your move (row and column):  1 1\n"
     ]
    },
    {
     "name": "stdout",
     "output_type": "stream",
     "text": [
      "\n",
      "\n",
      "X |   |  \n",
      "-----\n",
      "O | X |  \n",
      "-----\n",
      "  |   |  \n",
      "-----\n",
      "Computer moves to: (0, 2)\n",
      "\n",
      "\n",
      "X |   | O\n",
      "-----\n",
      "O | X |  \n",
      "-----\n",
      "  |   |  \n",
      "-----\n"
     ]
    },
    {
     "name": "stdin",
     "output_type": "stream",
     "text": [
      "Enter your move (row and column):  2 2\n"
     ]
    },
    {
     "name": "stdout",
     "output_type": "stream",
     "text": [
      "\n",
      "\n",
      "X |   | O\n",
      "-----\n",
      "O | X |  \n",
      "-----\n",
      "  |   | X\n",
      "-----\n",
      "Congratulations! You win!\n"
     ]
    }
   ],
   "source": [
    "import random\n",
    "\n",
    "# Function to display the Tic-Tac-Toe board\n",
    "def display_board(board):\n",
    "    print(\"\\n\")\n",
    "    for row in board:\n",
    "        print(\" | \".join(row))\n",
    "        print(\"-\" * 5)\n",
    "\n",
    "# Function to check if a player has won\n",
    "def check_winner(board, mark):\n",
    "    for row in board:\n",
    "        if row.count(mark) == 3:\n",
    "            return True\n",
    "    for col in range(3):\n",
    "        if all(board[row][col] == mark for row in range(3)):\n",
    "            return True\n",
    "    if all(board[i][i] == mark for i in range(3)) or all(board[i][2 - i] == mark for i in range(3)):\n",
    "        return True\n",
    "    return False\n",
    "\n",
    "# Function to check if the board is full\n",
    "def check_draw(board):\n",
    "    return all(cell != ' ' for row in board for cell in row)\n",
    "\n",
    "# Function to get the player's move\n",
    "def player_move(board):\n",
    "    while True:\n",
    "        try:\n",
    "            row, col = map(int, input(\"Enter your move (row and column): \").split())\n",
    "            if board[row][col] == ' ':\n",
    "                board[row][col] = 'X'\n",
    "                break\n",
    "            else:\n",
    "                print(\"Cell is already taken. Choose another.\")\n",
    "        except (ValueError, IndexError):\n",
    "            print(\"Invalid input. Enter row and column numbers between 0 and 2.\")\n",
    "\n",
    "# Function forcomputer's random move\n",
    "def computer_move(board):\n",
    "    available_moves = [(r, c) for r in range(3) for c in range(3) if board[r][c] == ' ']\n",
    "    move = random.choice(available_moves)\n",
    "    board[move[0]][move[1]] = 'O'\n",
    "    print(f\"Computer moves to: {move}\")\n",
    "\n",
    "# Main function\n",
    "def play_game():\n",
    "    board = [[' ' for _ in range(3)] for _ in range(3)]  # 3x3 board initialization\n",
    "    display_board(board)\n",
    "\n",
    "    while True:\n",
    "        # Player move\n",
    "        player_move(board)\n",
    "        display_board(board)\n",
    "        if check_winner(board, 'X'):\n",
    "            print(\"Congratulations! You win!\")\n",
    "            break\n",
    "        if check_draw(board):\n",
    "            print(\"It's a draw!\")\n",
    "            break\n",
    "\n",
    "        # Computer move\n",
    "        computer_move(board)\n",
    "        display_board(board)\n",
    "        if check_winner(board, 'O'):\n",
    "            print(\"Computer wins! Better luck next time.\")\n",
    "            break\n",
    "        if check_draw(board):\n",
    "            print(\"It's a draw!\")\n",
    "            break\n",
    "\n",
    "play_game()"
   ]
  },
  {
   "cell_type": "code",
   "execution_count": null,
   "id": "4244c53c-41e3-448b-92b2-10da1140a0ba",
   "metadata": {},
   "outputs": [],
   "source": [
    "#Question36"
   ]
  },
  {
   "cell_type": "code",
   "execution_count": 3,
   "id": "71ac798b-9ec6-4fd7-8ef1-ecddbb21a866",
   "metadata": {},
   "outputs": [
    {
     "name": "stdout",
     "output_type": "stream",
     "text": [
      "Fibonacci Sequence Generator\n"
     ]
    },
    {
     "name": "stdin",
     "output_type": "stream",
     "text": [
      "Enter the number of terms to generate (positive integer):  5\n"
     ]
    },
    {
     "name": "stdout",
     "output_type": "stream",
     "text": [
      "Fibonacci numbers up to the 5 term(s):\n",
      "[0, 1, 1, 2, 3]\n"
     ]
    }
   ],
   "source": [
    "def generate_fibonacci(n):\n",
    "\n",
    "    fibonacci_sequence = []\n",
    "    \n",
    "    a, b = 0, 1\n",
    "    \n",
    "    for _ in range(n):\n",
    "        fibonacci_sequence.append(a)\n",
    "        a, b = b, a + b \n",
    "\n",
    "    return fibonacci_sequence\n",
    "\n",
    "def main():\n",
    "    print(\"Fibonacci Sequence Generator\")\n",
    "    \n",
    "    while True:\n",
    "        n = int(input(\"Enter the number of terms to generate (positive integer): \"))\n",
    "        if n > 0:\n",
    "            break\n",
    "        print(\"Please enter a positive integer greater than 0.\")\n",
    "\n",
    "    fibonacci_numbers = generate_fibonacci(n)\n",
    "    print(f\"Fibonacci numbers up to the {n} term(s):\")\n",
    "    print(fibonacci_numbers)\n",
    "\n",
    "main()"
   ]
  },
  {
   "cell_type": "code",
   "execution_count": null,
   "id": "71ef782e-5fce-4062-ade1-8e05264ec9cb",
   "metadata": {},
   "outputs": [],
   "source": [
    "#Question37"
   ]
  },
  {
   "cell_type": "code",
   "execution_count": 20,
   "id": "8490d43c-7dc5-418f-af20-2d2bdaee1071",
   "metadata": {},
   "outputs": [
    {
     "name": "stdout",
     "output_type": "stream",
     "text": [
      "Fibonacci Sequence Calculator\n"
     ]
    },
    {
     "name": "stdin",
     "output_type": "stream",
     "text": [
      "Enter the term (non-negative integer) to calculate:  7\n"
     ]
    },
    {
     "name": "stdout",
     "output_type": "stream",
     "text": [
      "The 7th term of the Fibonacci sequence is: 13\n"
     ]
    }
   ],
   "source": [
    "def fibonacci(n, memo={}):\n",
    "    \n",
    "    # Base cases\n",
    "    if n <= 0:\n",
    "        return 0\n",
    "    elif n == 1:\n",
    "        return 1\n",
    "    \n",
    "    if n not in memo:\n",
    "        memo[n] = fibonacci(n - 1, memo) + fibonacci(n - 2, memo) \n",
    "    \n",
    "    return memo[n]\n",
    "\n",
    "def main():\n",
    "    print(\"Fibonacci Sequence Calculator\")\n",
    "    \n",
    "    while True:\n",
    "        n = int(input(\"Enter the term (non-negative integer) to calculate: \"))\n",
    "        if n >= 0:\n",
    "            break\n",
    "        print(\"Please enter a non-negative integer.\")\n",
    "\n",
    "    nth_fibonacci = fibonacci(n)\n",
    "    print(f\"The {n}th term of the Fibonacci sequence is: {nth_fibonacci}\")\n",
    "\n",
    "main()"
   ]
  },
  {
   "cell_type": "code",
   "execution_count": null,
   "id": "37897dd9-7d33-419a-bbc6-44051e6e8acc",
   "metadata": {},
   "outputs": [],
   "source": [
    "#Question38"
   ]
  },
  {
   "cell_type": "code",
   "execution_count": 21,
   "id": "42541f3d-8494-4b1c-bbfa-ac672a48bda5",
   "metadata": {},
   "outputs": [
    {
     "name": "stdout",
     "output_type": "stream",
     "text": [
      "Calendar Generator\n"
     ]
    },
    {
     "name": "stdin",
     "output_type": "stream",
     "text": [
      "Enter the year (e.g., 2024):  2002\n",
      "Enter the month (1-12):  2\n"
     ]
    },
    {
     "name": "stdout",
     "output_type": "stream",
     "text": [
      "February 2002\n",
      "   February 2002\n",
      "Mo Tu We Th Fr Sa Su\n",
      "             1  2  3\n",
      " 4  5  6  7  8  9 10\n",
      "11 12 13 14 15 16 17\n",
      "18 19 20 21 22 23 24\n",
      "25 26 27 28\n",
      "\n"
     ]
    }
   ],
   "source": [
    "import calendar\n",
    "\n",
    "def display_calendar(year, month):\n",
    "\n",
    "    # Print the month and year\n",
    "    print(calendar.month_name[month], year)\n",
    "    print(calendar.month(year, month))\n",
    "\n",
    "def main():\n",
    "    print(\"Calendar Generator\")\n",
    "    \n",
    "    while True:\n",
    "        year = int(input(\"Enter the year (e.g., 2024): \"))\n",
    "        if year > 0:\n",
    "            break\n",
    "        print(\"Please enter a valid year.\")\n",
    "    \n",
    "    while True:\n",
    "        month = int(input(\"Enter the month (1-12): \"))\n",
    "        if 1 <= month <= 12:\n",
    "            break\n",
    "        print(\"Please enter a valid month (1-12).\")\n",
    "\n",
    "    display_calendar(year, month)\n",
    "\n",
    "main()"
   ]
  },
  {
   "cell_type": "code",
   "execution_count": null,
   "id": "1ec09aaa-52c2-498b-af98-8c3798ccbc98",
   "metadata": {},
   "outputs": [],
   "source": [
    "#Question39"
   ]
  },
  {
   "cell_type": "code",
   "execution_count": 6,
   "id": "57e81d8e-724f-4d37-bd9a-f6c089d2a8da",
   "metadata": {},
   "outputs": [
    {
     "name": "stdout",
     "output_type": "stream",
     "text": [
      "Welcome to Blackjack!\n",
      "Player's hand: 2 of Spades, 7 of Diamonds\n",
      "Dealer's hand: 10 of Hearts, [Hidden card]\n"
     ]
    },
    {
     "name": "stdin",
     "output_type": "stream",
     "text": [
      "Do you want to 'hit' or 'stand'?  hit\n"
     ]
    },
    {
     "name": "stdout",
     "output_type": "stream",
     "text": [
      "Player's hand: 2 of Spades, 7 of Diamonds, A of Hearts\n"
     ]
    },
    {
     "name": "stdin",
     "output_type": "stream",
     "text": [
      "Do you want to 'hit' or 'stand'?  stand\n"
     ]
    },
    {
     "name": "stdout",
     "output_type": "stream",
     "text": [
      "Dealer's hand: 10 of Hearts, 3 of Clubs, 6 of Spades\n",
      "Player wins!\n"
     ]
    }
   ],
   "source": [
    "import random\n",
    "\n",
    "# Create a deck of cards\n",
    "suits = ['Hearts', 'Diamonds', 'Clubs', 'Spades']\n",
    "values = ['2', '3', '4', '5', '6', '7', '8', '9', '10', 'J', 'Q', 'K', 'A']\n",
    "deck = [(value, suit) for value in values for suit in suits]\n",
    "\n",
    "random.shuffle(deck)\n",
    "\n",
    "def calculate_hand_value(hand):\n",
    "    value = 0\n",
    "    ace_count = 0\n",
    "    \n",
    "    for card, suit in hand:\n",
    "        if card.isdigit():\n",
    "            value += int(card)\n",
    "        elif card in ['J', 'Q', 'K']:\n",
    "            value += 10\n",
    "        else:  # card == 'A'\n",
    "            value += 11\n",
    "            ace_count += 1\n",
    "    \n",
    "    while value > 21 and ace_count > 0:\n",
    "        value -= 10\n",
    "        ace_count -= 1\n",
    "    \n",
    "    return value\n",
    "\n",
    "def display_hand(player, hand):\n",
    "    print(f\"{player}'s hand: {', '.join([f'{card} of {suit}' for card, suit in hand])}\")\n",
    "\n",
    "def dealer_turn(dealer_hand):\n",
    "    while calculate_hand_value(dealer_hand) < 17:\n",
    "        dealer_hand.append(deck.pop())\n",
    "    return dealer_hand\n",
    "\n",
    "def determine_winner(player_hand, dealer_hand):\n",
    "    player_value = calculate_hand_value(player_hand)\n",
    "    dealer_value = calculate_hand_value(dealer_hand)\n",
    "    \n",
    "    if player_value > 21:\n",
    "        return \"Player busts! Dealer wins!\"\n",
    "    elif dealer_value > 21:\n",
    "        return \"Dealer busts! Player wins!\"\n",
    "    elif player_value > dealer_value:\n",
    "        return \"Player wins!\"\n",
    "    elif player_value < dealer_value:\n",
    "        return \"Dealer wins!\"\n",
    "    else:\n",
    "        return \"It's a tie!\"\n",
    "\n",
    "# Main game loop\n",
    "def blackjack_game():\n",
    "    print(\"Welcome to Blackjack!\")\n",
    "    \n",
    "    # Initial hands\n",
    "    player_hand = [deck.pop(), deck.pop()]\n",
    "    dealer_hand = [deck.pop(), deck.pop()]\n",
    "\n",
    "    # Show player and dealer hands\n",
    "    display_hand(\"Player\", player_hand)\n",
    "    print(f\"Dealer's hand: {dealer_hand[0][0]} of {dealer_hand[0][1]}, [Hidden card]\")\n",
    "\n",
    "    # Player's turn\n",
    "    while calculate_hand_value(player_hand) < 21:\n",
    "        action = input(\"Do you want to 'hit' or 'stand'? \").lower()\n",
    "        \n",
    "        if action == 'hit':\n",
    "            player_hand.append(deck.pop())\n",
    "            display_hand(\"Player\", player_hand)\n",
    "        elif action == 'stand':\n",
    "            break\n",
    "        else:\n",
    "            print(\"Invalid input. Please enter 'hit' or 'stand'.\")\n",
    "    \n",
    "    # Dealer's turn\n",
    "    dealer_hand = dealer_turn(dealer_hand)\n",
    "\n",
    "    # Show dealer's final hand\n",
    "    display_hand(\"Dealer\", dealer_hand)\n",
    "\n",
    "    result = determine_winner(player_hand, dealer_hand)\n",
    "    print(result)\n",
    "\n",
    "blackjack_game()"
   ]
  },
  {
   "cell_type": "code",
   "execution_count": null,
   "id": "9d67a201-5a51-4c18-9860-48864da8a2fc",
   "metadata": {},
   "outputs": [],
   "source": [
    "#Question40"
   ]
  },
  {
   "cell_type": "code",
   "execution_count": 2,
   "id": "55702559-7eef-4dcf-aef0-2d61fe2887ed",
   "metadata": {},
   "outputs": [
    {
     "name": "stdin",
     "output_type": "stream",
     "text": [
      "Enter a number:  16\n"
     ]
    },
    {
     "name": "stdout",
     "output_type": "stream",
     "text": [
      "The prime factors of 16 are: [2, 2, 2, 2]\n"
     ]
    }
   ],
   "source": [
    "def prime_factors(n):\n",
    "    factors = []\n",
    "    \n",
    "    while n % 2 == 0:\n",
    "        factors.append(2)\n",
    "        n //= 2\n",
    "\n",
    "    for i in range(3, int(n**0.5) + 1, 2):\n",
    "        while n % i == 0:\n",
    "            factors.append(i)\n",
    "            n //= i\n",
    "    \n",
    "    if n > 2:\n",
    "        factors.append(n)\n",
    "    \n",
    "    return factors\n",
    "\n",
    "number = int(input(\"Enter a number: \"))\n",
    "print(f\"The prime factors of {number} are: {prime_factors(number)}\")"
   ]
  }
 ],
 "metadata": {
  "kernelspec": {
   "display_name": "Python 3 (ipykernel)",
   "language": "python",
   "name": "python3"
  },
  "language_info": {
   "codemirror_mode": {
    "name": "ipython",
    "version": 3
   },
   "file_extension": ".py",
   "mimetype": "text/x-python",
   "name": "python",
   "nbconvert_exporter": "python",
   "pygments_lexer": "ipython3",
   "version": "3.10.8"
  }
 },
 "nbformat": 4,
 "nbformat_minor": 5
}
